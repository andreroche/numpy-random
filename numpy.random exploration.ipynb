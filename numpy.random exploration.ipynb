{
 "cells": [
  {
   "cell_type": "markdown",
   "metadata": {},
   "source": [
    "## NumPy.Random Package "
   ]
  },
  {
   "cell_type": "markdown",
   "metadata": {},
   "source": [
    "### Overall Purpose:"
   ]
  },
  {
   "cell_type": "markdown",
   "metadata": {},
   "source": [
    "The purpose of the package is to build upon the existing random module in the python standard library. The existing random module has functionality for creating single random numbers and some simple distributions. The numpy random package offers all of this functionality with the addition of generating random numbers inside numpy arrays.It also supports a larger amount of distributions with further options within those distributions.NumPy.random is also significantly faster than the standard random module for generating very large samples. Both NumPy and the standard library use the Mersenne Twister pseudo-random number generator.  "
   ]
  },
  {
   "cell_type": "markdown",
   "metadata": {},
   "source": [
    "### Why Random?"
   ]
  },
  {
   "cell_type": "markdown",
   "metadata": {},
   "source": [
    "Random data (or in this case pseudorandom since computers are deterministic) is useful for simulating real world phenomena which can often appear very complex or appear random. By simultating these events we can learn more about what is likely to occur and when / how often etc. Examples of this would be weather forcasting (meteorology), measurement uncertainty (metrology), economics (trading and finance)and manufacturing (FEA)."
   ]
  },
  {
   "cell_type": "markdown",
   "metadata": {},
   "source": [
    "### Simple Random Data"
   ]
  },
  {
   "cell_type": "markdown",
   "metadata": {},
   "source": [
    "You can visit https://docs.scipy.org/doc/numpy-1.15.1/reference/routines.random.html for a list of simple random data numpy docstrings."
   ]
  },
  {
   "cell_type": "code",
   "execution_count": 56,
   "metadata": {},
   "outputs": [],
   "source": [
    "# an easier way to view information on all functions. It includes great examples. \n",
    "# type help(np.random)"
   ]
  },
  {
   "cell_type": "code",
   "execution_count": 57,
   "metadata": {},
   "outputs": [],
   "source": [
    "import numpy as np\n",
    "from numpy import random"
   ]
  },
  {
   "cell_type": "markdown",
   "metadata": {},
   "source": [
    "The .rand function allows you to create an array of a specified shape. That can be 1D by passing one number as an argument, 2D by passing two and 3D by passing three. The array will contain data from a uniform distribution over the range 0-1. For example, in the next line of code it shows a 5 row x 3 column array with all positive values. "
   ]
  },
  {
   "cell_type": "code",
   "execution_count": 58,
   "metadata": {},
   "outputs": [],
   "source": [
    "measurements = np.random.rand(3,3)"
   ]
  },
  {
   "cell_type": "code",
   "execution_count": 59,
   "metadata": {},
   "outputs": [
    {
     "name": "stdout",
     "output_type": "stream",
     "text": [
      "[[0.38483483 0.09767197 0.82352402]\n",
      " [0.39207246 0.27690079 0.40521329]\n",
      " [0.96161527 0.29390908 0.23614047]]\n"
     ]
    }
   ],
   "source": [
    "print(measurements)"
   ]
  },
  {
   "cell_type": "markdown",
   "metadata": {},
   "source": [
    "When no argument is passed, i.e. nothing in the parenthesis (), then a single floating point number is returned.   "
   ]
  },
  {
   "cell_type": "code",
   "execution_count": 60,
   "metadata": {},
   "outputs": [
    {
     "data": {
      "text/plain": [
       "0.9381201238380623"
      ]
     },
     "execution_count": 60,
     "metadata": {},
     "output_type": "execute_result"
    }
   ],
   "source": [
    "np.random.rand()"
   ]
  },
  {
   "cell_type": "markdown",
   "metadata": {},
   "source": [
    "The .randn function will return an array (1D-3D) of samples or just one sample (depending on whether an argument is passed or not) from a normal distribution of mean = 0 and variance =1. Similiar to the .rand function only data is taken from a normal and not uniform distribution. "
   ]
  },
  {
   "cell_type": "code",
   "execution_count": 61,
   "metadata": {},
   "outputs": [],
   "source": [
    "temp_read = np.random.randn(2,3)"
   ]
  },
  {
   "cell_type": "code",
   "execution_count": 62,
   "metadata": {},
   "outputs": [
    {
     "data": {
      "text/plain": [
       "array([[-0.12229247, -1.16814313,  0.54707213],\n",
       "       [ 0.82748854,  0.50522269,  0.4211782 ]])"
      ]
     },
     "execution_count": 62,
     "metadata": {},
     "output_type": "execute_result"
    }
   ],
   "source": [
    "temp_read"
   ]
  },
  {
   "cell_type": "markdown",
   "metadata": {},
   "source": [
    "Randomly generated data can be manipulated using simple maths. "
   ]
  },
  {
   "cell_type": "code",
   "execution_count": 63,
   "metadata": {},
   "outputs": [],
   "source": [
    "# multiply the values in the array by 2\n",
    "temp_read = np.random.randn(2,3)*2"
   ]
  },
  {
   "cell_type": "code",
   "execution_count": 64,
   "metadata": {},
   "outputs": [
    {
     "data": {
      "text/plain": [
       "array([[-0.57633365,  0.46980427,  3.18542099],\n",
       "       [ 1.90700519,  3.20697783, -0.56699915]])"
      ]
     },
     "execution_count": 64,
     "metadata": {},
     "output_type": "execute_result"
    }
   ],
   "source": [
    "temp_read"
   ]
  },
  {
   "cell_type": "code",
   "execution_count": 65,
   "metadata": {},
   "outputs": [],
   "source": [
    "# multiplication and addition\n",
    "temp_read = np.random.randn(2,3)*3 + 2"
   ]
  },
  {
   "cell_type": "code",
   "execution_count": 66,
   "metadata": {},
   "outputs": [
    {
     "data": {
      "text/plain": [
       "array([[-0.21028015,  0.62426445,  1.84530458],\n",
       "       [ 2.26309868,  2.20604718, -5.17318414]])"
      ]
     },
     "execution_count": 66,
     "metadata": {},
     "output_type": "execute_result"
    }
   ],
   "source": [
    "temp_read"
   ]
  },
  {
   "cell_type": "markdown",
   "metadata": {},
   "source": [
    "The .randint function returns random integers from a discrete uniform distribution from a range of low to high, including the low but excluding the high. The size of the array that is returned can be set i.e. give me five random numbers from the list of 1-8 (including one but excluding eight)"
   ]
  },
  {
   "cell_type": "code",
   "execution_count": 67,
   "metadata": {},
   "outputs": [
    {
     "data": {
      "text/plain": [
       "2"
      ]
     },
     "execution_count": 67,
     "metadata": {},
     "output_type": "execute_result"
    }
   ],
   "source": [
    "# random number between 0 and 3 (inclusive of 0, exclusive of 3. The high is not set) \n",
    "np.random.randint(3)"
   ]
  },
  {
   "cell_type": "code",
   "execution_count": 68,
   "metadata": {},
   "outputs": [
    {
     "data": {
      "text/plain": [
       "4"
      ]
     },
     "execution_count": 68,
     "metadata": {},
     "output_type": "execute_result"
    }
   ],
   "source": [
    "# inclusive of 1 but excluding 5\n",
    "np.random.randint(1,5)"
   ]
  },
  {
   "cell_type": "code",
   "execution_count": 69,
   "metadata": {},
   "outputs": [
    {
     "data": {
      "text/plain": [
       "array([ 8,  5, 11, 13,  5, 10,  9,  3, 11,  8])"
      ]
     },
     "execution_count": 69,
     "metadata": {},
     "output_type": "execute_result"
    }
   ],
   "source": [
    "#return 10 numbers in the array, from 3-14)\n",
    "np.random.randint(low=3,high=15, size=10)"
   ]
  },
  {
   "cell_type": "markdown",
   "metadata": {},
   "source": [
    "It might be useful to plot your data to ensure you have the right distribution "
   ]
  },
  {
   "cell_type": "code",
   "execution_count": 70,
   "metadata": {},
   "outputs": [
    {
     "name": "stdout",
     "output_type": "stream",
     "text": [
      "Data distributions from functions within the numPy.random package\n"
     ]
    },
    {
     "data": {
      "image/png": "[encoded data removed]",
      "text/plain": [
       "<Figure size 1080x216 with 3 Axes>"
      ]
     },
     "metadata": {
      "needs_background": "light"
     },
     "output_type": "display_data"
    }
   ],
   "source": [
    "# to show that rand, randn and randint are distributed as they should be. should return uniform/normal/uniform \n",
    "\n",
    "# import library - pyplot needed for subplot\n",
    "import matplotlib.pyplot as plt\n",
    "\n",
    "fig, axes = plt.subplots (1,3, figsize=(15,3))\n",
    "axes[0].hist(np.random.rand(15000))\n",
    "axes[0].set_title (\"rand dist\")\n",
    "axes[1].hist(np.random.randn(15000))\n",
    "axes[1].set_title(\"randn dist\")\n",
    "axes[2].hist(np.random.randint(low=1, high=1000, size=15000), bins=12, align = 'left')\n",
    "axes[2].set_title (\"randint dist\")\n",
    "\n",
    "plt.show\n",
    "\n",
    "print(\"Data distributions from functions within the numPy.random package\")"
   ]
  },
  {
   "cell_type": "markdown",
   "metadata": {},
   "source": [
    "Create a random list of computer games and make a dataframe."
   ]
  },
  {
   "cell_type": "code",
   "execution_count": 71,
   "metadata": {
    "scrolled": true
   },
   "outputs": [
    {
     "data": {
      "text/html": [
       "<div>\n",
       "<style scoped>\n",
       "    .dataframe tbody tr th:only-of-type {\n",
       "        vertical-align: middle;\n",
       "    }\n",
       "\n",
       "    .dataframe tbody tr th {\n",
       "        vertical-align: top;\n",
       "    }\n",
       "\n",
       "    .dataframe thead th {\n",
       "        text-align: right;\n",
       "    }\n",
       "</style>\n",
       "<table border=\"1\" class=\"dataframe\">\n",
       "  <thead>\n",
       "    <tr style=\"text-align: right;\">\n",
       "      <th></th>\n",
       "      <th>games</th>\n",
       "    </tr>\n",
       "  </thead>\n",
       "  <tbody>\n",
       "    <tr>\n",
       "      <th>0</th>\n",
       "      <td>CIVILISATION VI</td>\n",
       "    </tr>\n",
       "    <tr>\n",
       "      <th>1</th>\n",
       "      <td>CIVILISATION VI</td>\n",
       "    </tr>\n",
       "    <tr>\n",
       "      <th>2</th>\n",
       "      <td>SUPER MARIO BROS</td>\n",
       "    </tr>\n",
       "    <tr>\n",
       "      <th>3</th>\n",
       "      <td>FIFA 19</td>\n",
       "    </tr>\n",
       "    <tr>\n",
       "      <th>4</th>\n",
       "      <td>TOMB RAIDER</td>\n",
       "    </tr>\n",
       "    <tr>\n",
       "      <th>5</th>\n",
       "      <td>TOMB RAIDER</td>\n",
       "    </tr>\n",
       "    <tr>\n",
       "      <th>6</th>\n",
       "      <td>CALL OF DUTY</td>\n",
       "    </tr>\n",
       "    <tr>\n",
       "      <th>7</th>\n",
       "      <td>BATTLEFIELD V</td>\n",
       "    </tr>\n",
       "    <tr>\n",
       "      <th>8</th>\n",
       "      <td>CALL OF DUTY</td>\n",
       "    </tr>\n",
       "    <tr>\n",
       "      <th>9</th>\n",
       "      <td>FIFA 19</td>\n",
       "    </tr>\n",
       "    <tr>\n",
       "      <th>10</th>\n",
       "      <td>HALO 5</td>\n",
       "    </tr>\n",
       "    <tr>\n",
       "      <th>11</th>\n",
       "      <td>FIFA 19</td>\n",
       "    </tr>\n",
       "    <tr>\n",
       "      <th>12</th>\n",
       "      <td>TOMB RAIDER</td>\n",
       "    </tr>\n",
       "    <tr>\n",
       "      <th>13</th>\n",
       "      <td>GTA5</td>\n",
       "    </tr>\n",
       "    <tr>\n",
       "      <th>14</th>\n",
       "      <td>GEARS OF WAR</td>\n",
       "    </tr>\n",
       "    <tr>\n",
       "      <th>15</th>\n",
       "      <td>SUPER MARIO BROS</td>\n",
       "    </tr>\n",
       "    <tr>\n",
       "      <th>16</th>\n",
       "      <td>GTA5</td>\n",
       "    </tr>\n",
       "    <tr>\n",
       "      <th>17</th>\n",
       "      <td>TOMB RAIDER</td>\n",
       "    </tr>\n",
       "    <tr>\n",
       "      <th>18</th>\n",
       "      <td>CRYSIS</td>\n",
       "    </tr>\n",
       "    <tr>\n",
       "      <th>19</th>\n",
       "      <td>CALL OF DUTY</td>\n",
       "    </tr>\n",
       "    <tr>\n",
       "      <th>20</th>\n",
       "      <td>CIVILISATION VI</td>\n",
       "    </tr>\n",
       "    <tr>\n",
       "      <th>21</th>\n",
       "      <td>FIFA 19</td>\n",
       "    </tr>\n",
       "    <tr>\n",
       "      <th>22</th>\n",
       "      <td>DOOM</td>\n",
       "    </tr>\n",
       "    <tr>\n",
       "      <th>23</th>\n",
       "      <td>HALO 5</td>\n",
       "    </tr>\n",
       "    <tr>\n",
       "      <th>24</th>\n",
       "      <td>DOOM</td>\n",
       "    </tr>\n",
       "    <tr>\n",
       "      <th>25</th>\n",
       "      <td>GEARS OF WAR</td>\n",
       "    </tr>\n",
       "    <tr>\n",
       "      <th>26</th>\n",
       "      <td>DOOM</td>\n",
       "    </tr>\n",
       "    <tr>\n",
       "      <th>27</th>\n",
       "      <td>HALO 5</td>\n",
       "    </tr>\n",
       "    <tr>\n",
       "      <th>28</th>\n",
       "      <td>BATTLEFIELD V</td>\n",
       "    </tr>\n",
       "    <tr>\n",
       "      <th>29</th>\n",
       "      <td>DOOM</td>\n",
       "    </tr>\n",
       "    <tr>\n",
       "      <th>30</th>\n",
       "      <td>CRYSIS</td>\n",
       "    </tr>\n",
       "    <tr>\n",
       "      <th>31</th>\n",
       "      <td>GTA5</td>\n",
       "    </tr>\n",
       "    <tr>\n",
       "      <th>32</th>\n",
       "      <td>GEARS OF WAR</td>\n",
       "    </tr>\n",
       "    <tr>\n",
       "      <th>33</th>\n",
       "      <td>CALL OF DUTY</td>\n",
       "    </tr>\n",
       "    <tr>\n",
       "      <th>34</th>\n",
       "      <td>HALO 5</td>\n",
       "    </tr>\n",
       "    <tr>\n",
       "      <th>35</th>\n",
       "      <td>GTA5</td>\n",
       "    </tr>\n",
       "    <tr>\n",
       "      <th>36</th>\n",
       "      <td>CIVILISATION VI</td>\n",
       "    </tr>\n",
       "    <tr>\n",
       "      <th>37</th>\n",
       "      <td>SUPER MARIO BROS</td>\n",
       "    </tr>\n",
       "    <tr>\n",
       "      <th>38</th>\n",
       "      <td>DOOM</td>\n",
       "    </tr>\n",
       "    <tr>\n",
       "      <th>39</th>\n",
       "      <td>BATTLEFIELD V</td>\n",
       "    </tr>\n",
       "    <tr>\n",
       "      <th>40</th>\n",
       "      <td>FIFA 19</td>\n",
       "    </tr>\n",
       "    <tr>\n",
       "      <th>41</th>\n",
       "      <td>SUPER MARIO BROS</td>\n",
       "    </tr>\n",
       "    <tr>\n",
       "      <th>42</th>\n",
       "      <td>FIFA 19</td>\n",
       "    </tr>\n",
       "    <tr>\n",
       "      <th>43</th>\n",
       "      <td>HALO 5</td>\n",
       "    </tr>\n",
       "    <tr>\n",
       "      <th>44</th>\n",
       "      <td>TOMB RAIDER</td>\n",
       "    </tr>\n",
       "    <tr>\n",
       "      <th>45</th>\n",
       "      <td>DOOM</td>\n",
       "    </tr>\n",
       "    <tr>\n",
       "      <th>46</th>\n",
       "      <td>CALL OF DUTY</td>\n",
       "    </tr>\n",
       "    <tr>\n",
       "      <th>47</th>\n",
       "      <td>SUPER MARIO BROS</td>\n",
       "    </tr>\n",
       "    <tr>\n",
       "      <th>48</th>\n",
       "      <td>BATTLEFIELD V</td>\n",
       "    </tr>\n",
       "    <tr>\n",
       "      <th>49</th>\n",
       "      <td>CIVILISATION VI</td>\n",
       "    </tr>\n",
       "  </tbody>\n",
       "</table>\n",
       "</div>"
      ],
      "text/plain": [
       "               games\n",
       "0    CIVILISATION VI\n",
       "1    CIVILISATION VI\n",
       "2   SUPER MARIO BROS\n",
       "3            FIFA 19\n",
       "4        TOMB RAIDER\n",
       "5        TOMB RAIDER\n",
       "6       CALL OF DUTY\n",
       "7      BATTLEFIELD V\n",
       "8       CALL OF DUTY\n",
       "9            FIFA 19\n",
       "10            HALO 5\n",
       "11           FIFA 19\n",
       "12       TOMB RAIDER\n",
       "13              GTA5\n",
       "14      GEARS OF WAR\n",
       "15  SUPER MARIO BROS\n",
       "16              GTA5\n",
       "17       TOMB RAIDER\n",
       "18            CRYSIS\n",
       "19      CALL OF DUTY\n",
       "20   CIVILISATION VI\n",
       "21           FIFA 19\n",
       "22              DOOM\n",
       "23            HALO 5\n",
       "24              DOOM\n",
       "25      GEARS OF WAR\n",
       "26              DOOM\n",
       "27            HALO 5\n",
       "28     BATTLEFIELD V\n",
       "29              DOOM\n",
       "30            CRYSIS\n",
       "31              GTA5\n",
       "32      GEARS OF WAR\n",
       "33      CALL OF DUTY\n",
       "34            HALO 5\n",
       "35              GTA5\n",
       "36   CIVILISATION VI\n",
       "37  SUPER MARIO BROS\n",
       "38              DOOM\n",
       "39     BATTLEFIELD V\n",
       "40           FIFA 19\n",
       "41  SUPER MARIO BROS\n",
       "42           FIFA 19\n",
       "43            HALO 5\n",
       "44       TOMB RAIDER\n",
       "45              DOOM\n",
       "46      CALL OF DUTY\n",
       "47  SUPER MARIO BROS\n",
       "48     BATTLEFIELD V\n",
       "49   CIVILISATION VI"
      ]
     },
     "execution_count": 71,
     "metadata": {},
     "output_type": "execute_result"
    }
   ],
   "source": [
    "#import libraries\n",
    "import numpy as np\n",
    "from numpy import random\n",
    "import pandas as pd\n",
    "\n",
    "#define the games\n",
    "games = ['GTA5','HALO 5','CIVILISATION VI','BATTLEFIELD V',\n",
    "         'CALL OF DUTY', 'SUPER MARIO BROS','TOMB RAIDER',\n",
    "         'GEARS OF WAR', 'DOOM', 'FIFA 19', 'CRYSIS']\n",
    "randgames = []\n",
    "# i just want 50 games for this example. loop until i = 50\n",
    "for i in range (50): \n",
    "    # random ints from 0 to length of the games list\n",
    "    game = games[np.random.randint(low=0, high=len(games))]\n",
    "    randgames.append(game)\n",
    "\n",
    "# creating my own dataset \n",
    "gamedataset = list(zip(randgames))\n",
    "df=pd.DataFrame(data = gamedataset, \n",
    "                columns=['games'])\n",
    "\n",
    "df\n"
   ]
  },
  {
   "cell_type": "markdown",
   "metadata": {},
   "source": [
    "The choice function allows you to create a unique set of integers from a population. You won't have duplication, i.e. it will ensure that you do not / you cannot select the same integer twice just as you would if you were randomly sampling from a population or sample population."
   ]
  },
  {
   "cell_type": "code",
   "execution_count": 72,
   "metadata": {},
   "outputs": [
    {
     "data": {
      "text/plain": [
       "array([10,  1,  3,  9,  0,  3,  1,  7])"
      ]
     },
     "execution_count": 72,
     "metadata": {},
     "output_type": "execute_result"
    }
   ],
   "source": [
    "# return uniform sample from 0-11 (not including 11) of size 8 (number of samples)\n",
    "np.random.choice(11, 8)"
   ]
  },
  {
   "cell_type": "code",
   "execution_count": 73,
   "metadata": {},
   "outputs": [
    {
     "data": {
      "text/plain": [
       "array([ 3,  4,  9, 10,  0,  5,  7,  1])"
      ]
     },
     "execution_count": 73,
     "metadata": {},
     "output_type": "execute_result"
    }
   ],
   "source": [
    "# replace keyword used. False means that the ints are selected without replacement.\n",
    "np.random.choice(11, 8, replace = False)"
   ]
  },
  {
   "cell_type": "markdown",
   "metadata": {},
   "source": [
    "Since it's integers, we can use this for a list of items also and also include probability of those items being selected. If the probability is not given it wil assume a uniform distribution over the entries."
   ]
  },
  {
   "cell_type": "code",
   "execution_count": 74,
   "metadata": {},
   "outputs": [
    {
     "data": {
      "text/plain": [
       "array([3, 4, 1], dtype=int64)"
      ]
     },
     "execution_count": 74,
     "metadata": {},
     "output_type": "execute_result"
    }
   ],
   "source": [
    "np.random.choice(5, 3, p = [0.1,0.5,0.1,0.1,0.2,])\n"
   ]
  },
  {
   "cell_type": "code",
   "execution_count": 75,
   "metadata": {},
   "outputs": [
    {
     "name": "stdout",
     "output_type": "stream",
     "text": [
      "['vw', 'ford', 'audi', 'skoda', 'seat']\n",
      "['ford' 'seat' 'ford' 'skoda' 'audi']\n"
     ]
    }
   ],
   "source": [
    "# return 5 cars from 'cars' and call that a dataset\n",
    "cars = ['vw','ford','audi','skoda','seat',]\n",
    "dataset = np.random.choice(cars,5, p = [0.1,0.5,0.1,0.1,0.2,])\n",
    "print(cars)\n",
    "print(dataset)"
   ]
  },
  {
   "cell_type": "code",
   "execution_count": 76,
   "metadata": {},
   "outputs": [
    {
     "name": "stdout",
     "output_type": "stream",
     "text": [
      "Drumroll please......The winner has won a vodka\n"
     ]
    }
   ],
   "source": [
    "# pick a random gift from a list for winners of the GMIT christmas draw!\n",
    "\n",
    "import numpy as np\n",
    "from numpy import random\n",
    "gifts = ['tv', 'playstation', 'xbox', 'vodka', '1yr of free dinners' ]\n",
    "prize = np.random.choice(gifts)\n",
    "print('Drumroll please......The winner has won a', prize)\n"
   ]
  },
  {
   "cell_type": "markdown",
   "metadata": {},
   "source": [
    "### Permutations"
   ]
  },
  {
   "cell_type": "markdown",
   "metadata": {},
   "source": [
    "The shuffle function modifies a sequence in-place by shuffling it's contents. You can do this for 1D arrays and 2D or more."
   ]
  },
  {
   "cell_type": "code",
   "execution_count": 77,
   "metadata": {},
   "outputs": [
    {
     "name": "stdout",
     "output_type": "stream",
     "text": [
      "mary\n",
      "mike\n"
     ]
    }
   ],
   "source": [
    "# pick a winner from 'winners', then shuffle and pick a winner again\n",
    "import numpy as np\n",
    "from numpy import random\n",
    "winners = ['pat', 'tom', 'izzie', 'mike', 'mary'] \n",
    "print (np.random.choice(winners))\n",
    "\n",
    "# change the sequence and choose again\n",
    "np.random.shuffle(winners) \n",
    "print(np.random.choice(winners))"
   ]
  },
  {
   "cell_type": "code",
   "execution_count": 78,
   "metadata": {},
   "outputs": [
    {
     "name": "stdout",
     "output_type": "stream",
     "text": [
      "[ 6 32  8 27 19  5]\n",
      "[ 5  6  8 32 27 19]\n"
     ]
    }
   ],
   "source": [
    "lotto_no = np.array([27,6,19,8,5,32])\n",
    "np.random.shuffle(lotto_no)\n",
    "print(lotto_no)\n",
    "\n",
    "#now shuffle again\n",
    "np.random.shuffle(lotto_no)\n",
    "print(lotto_no)"
   ]
  },
  {
   "cell_type": "markdown",
   "metadata": {},
   "source": [
    "The Permutations function randomly permutes a sequence or returns a permuted range. This could be useful for returning a random sample from a dataframe. "
   ]
  },
  {
   "cell_type": "code",
   "execution_count": 79,
   "metadata": {},
   "outputs": [
    {
     "data": {
      "text/html": [
       "<div>\n",
       "<style scoped>\n",
       "    .dataframe tbody tr th:only-of-type {\n",
       "        vertical-align: middle;\n",
       "    }\n",
       "\n",
       "    .dataframe tbody tr th {\n",
       "        vertical-align: top;\n",
       "    }\n",
       "\n",
       "    .dataframe thead th {\n",
       "        text-align: right;\n",
       "    }\n",
       "</style>\n",
       "<table border=\"1\" class=\"dataframe\">\n",
       "  <thead>\n",
       "    <tr style=\"text-align: right;\">\n",
       "      <th></th>\n",
       "      <th>dataset</th>\n",
       "      <th>x</th>\n",
       "      <th>y</th>\n",
       "    </tr>\n",
       "  </thead>\n",
       "  <tbody>\n",
       "    <tr>\n",
       "      <th>15</th>\n",
       "      <td>II</td>\n",
       "      <td>11.0</td>\n",
       "      <td>9.26</td>\n",
       "    </tr>\n",
       "    <tr>\n",
       "      <th>27</th>\n",
       "      <td>III</td>\n",
       "      <td>14.0</td>\n",
       "      <td>8.84</td>\n",
       "    </tr>\n",
       "    <tr>\n",
       "      <th>12</th>\n",
       "      <td>II</td>\n",
       "      <td>8.0</td>\n",
       "      <td>8.14</td>\n",
       "    </tr>\n",
       "    <tr>\n",
       "      <th>1</th>\n",
       "      <td>I</td>\n",
       "      <td>8.0</td>\n",
       "      <td>6.95</td>\n",
       "    </tr>\n",
       "    <tr>\n",
       "      <th>0</th>\n",
       "      <td>I</td>\n",
       "      <td>10.0</td>\n",
       "      <td>8.04</td>\n",
       "    </tr>\n",
       "    <tr>\n",
       "      <th>20</th>\n",
       "      <td>II</td>\n",
       "      <td>7.0</td>\n",
       "      <td>7.26</td>\n",
       "    </tr>\n",
       "    <tr>\n",
       "      <th>16</th>\n",
       "      <td>II</td>\n",
       "      <td>14.0</td>\n",
       "      <td>8.10</td>\n",
       "    </tr>\n",
       "    <tr>\n",
       "      <th>13</th>\n",
       "      <td>II</td>\n",
       "      <td>13.0</td>\n",
       "      <td>8.74</td>\n",
       "    </tr>\n",
       "    <tr>\n",
       "      <th>37</th>\n",
       "      <td>IV</td>\n",
       "      <td>8.0</td>\n",
       "      <td>8.47</td>\n",
       "    </tr>\n",
       "    <tr>\n",
       "      <th>6</th>\n",
       "      <td>I</td>\n",
       "      <td>6.0</td>\n",
       "      <td>7.24</td>\n",
       "    </tr>\n",
       "    <tr>\n",
       "      <th>29</th>\n",
       "      <td>III</td>\n",
       "      <td>4.0</td>\n",
       "      <td>5.39</td>\n",
       "    </tr>\n",
       "    <tr>\n",
       "      <th>31</th>\n",
       "      <td>III</td>\n",
       "      <td>7.0</td>\n",
       "      <td>6.42</td>\n",
       "    </tr>\n",
       "    <tr>\n",
       "      <th>40</th>\n",
       "      <td>IV</td>\n",
       "      <td>19.0</td>\n",
       "      <td>12.50</td>\n",
       "    </tr>\n",
       "    <tr>\n",
       "      <th>38</th>\n",
       "      <td>IV</td>\n",
       "      <td>8.0</td>\n",
       "      <td>7.04</td>\n",
       "    </tr>\n",
       "    <tr>\n",
       "      <th>36</th>\n",
       "      <td>IV</td>\n",
       "      <td>8.0</td>\n",
       "      <td>8.84</td>\n",
       "    </tr>\n",
       "  </tbody>\n",
       "</table>\n",
       "</div>"
      ],
      "text/plain": [
       "   dataset     x      y\n",
       "15      II  11.0   9.26\n",
       "27     III  14.0   8.84\n",
       "12      II   8.0   8.14\n",
       "1        I   8.0   6.95\n",
       "0        I  10.0   8.04\n",
       "20      II   7.0   7.26\n",
       "16      II  14.0   8.10\n",
       "13      II  13.0   8.74\n",
       "37      IV   8.0   8.47\n",
       "6        I   6.0   7.24\n",
       "29     III   4.0   5.39\n",
       "31     III   7.0   6.42\n",
       "40      IV  19.0  12.50\n",
       "38      IV   8.0   7.04\n",
       "36      IV   8.0   8.84"
      ]
     },
     "execution_count": 79,
     "metadata": {},
     "output_type": "execute_result"
    }
   ],
   "source": [
    "import numpy as np\n",
    "from numpy import random\n",
    "import seaborn as sns\n",
    "\n",
    "#load anscombe dataset from seaborn\n",
    "df = sns.load_dataset(\"anscombe\")\n",
    "\n",
    "# display a random permutation/sample of 15 rows from anscombe df \n",
    "df.take(np.random.permutation(len(df))[:15])"
   ]
  },
  {
   "cell_type": "markdown",
   "metadata": {},
   "source": [
    "### Distributions:"
   ]
  },
  {
   "cell_type": "markdown",
   "metadata": {},
   "source": [
    "### Normal Distribution"
   ]
  },
  {
   "cell_type": "markdown",
   "metadata": {},
   "source": [
    "The normal distribution is sometimes called the bell curve due to its shape. It has two parameters, X bar (mean) and sigma (standard deviation). It occurs quite a lot in the real world. If we had a real world application that we wanted to model where most of the values fall around a value Xbar with a spread of sigma then this distribution would suit. Examples might be (1) the  height of adult males in ireland where average is 180cm and standard dev is 20cm or (2) speed of cars where 80km/h is average and 10km is the standard deviation. If i have a large sigma, i'm more likely to pick a value further away from Xbar."
   ]
  },
  {
   "cell_type": "code",
   "execution_count": 80,
   "metadata": {},
   "outputs": [
    {
     "name": "stdout",
     "output_type": "stream",
     "text": [
      "84.41246500996269\n",
      "[72.15000138 84.36934151 78.15312685 78.035853   87.75314435 69.75541699\n",
      " 83.74427509 79.31474103 68.41642116 87.34764687]\n"
     ]
    }
   ],
   "source": [
    "import numpy as np\n",
    "\n",
    "# one sample drawn from the norm dist of mean 80 and stdev 10\n",
    "print(np.random.normal(80,10, size = None))\n",
    "\n",
    "#10 drawn samples in an array from a normal distribution of mean 80, stdev 10\n",
    "print(np.random.normal(80,10, 10))"
   ]
  },
  {
   "cell_type": "code",
   "execution_count": 81,
   "metadata": {},
   "outputs": [
    {
     "data": {
      "image/png": "[encoded data removed]",
      "text/plain": [
       "<Figure size 432x288 with 1 Axes>"
      ]
     },
     "metadata": {
      "needs_background": "light"
     },
     "output_type": "display_data"
    }
   ],
   "source": [
    "#plot the histogram of the 5000 data point from a normal distribution \n",
    "\n",
    "import matplotlib.pyplot as plt\n",
    "plt.hist(np.random.normal(80,10, 5000))\n",
    "\n",
    "plt.title(' Driver speed in Ireland')\n",
    "\n",
    "plt.show()\n"
   ]
  },
  {
   "cell_type": "markdown",
   "metadata": {},
   "source": [
    "This could be used for comparing datasets or set up a script for outlier detection. Here we can try to see how two variables of 5000 points each from normal distributions correlate by inducing an outlier into one variable."
   ]
  },
  {
   "cell_type": "code",
   "execution_count": 82,
   "metadata": {},
   "outputs": [
    {
     "name": "stdout",
     "output_type": "stream",
     "text": [
      "Dist1 Summary\n",
      "79.96054217325363\n",
      "97.92365634369816\n",
      "79.86179663634091\n",
      "Dist2 Summary\n",
      "79.98407215341022\n",
      "100.80385497422674\n",
      "79.86179663634091\n",
      "Correlation Coefficients\n",
      "(0.986176237294133, 0.0)\n"
     ]
    },
    {
     "data": {
      "image/png": "[encoded data removed]",
      "text/plain": [
       "<Figure size 1080x216 with 2 Axes>"
      ]
     },
     "metadata": {
      "needs_background": "light"
     },
     "output_type": "display_data"
    },
    {
     "name": "stdout",
     "output_type": "stream",
     "text": [
      "[200.         112.63962621 111.50435217 111.25590959 112.75427911\n",
      " 115.99016609]\n",
      "[5000.         2815.99065513 2787.6088043  2781.39773976 2818.85697769\n",
      " 2899.75415217]\n"
     ]
    }
   ],
   "source": [
    "import numpy as np\n",
    "import scipy\n",
    "#from the scipy library import the pearsonr function\n",
    "from scipy.stats import pearsonr\n",
    "\n",
    "\n",
    "# dist1 variable with 5000 points\n",
    "dist1 = np.random.normal(80,10,5000)\n",
    "\n",
    "#create a copy of the dist1 variable and call it outlierdist\n",
    "outlierdist = dist1.copy()\n",
    "# induce an outlier at index 0 with a value of 200\n",
    "outlierdist[0] = 200\n",
    "\n",
    "#note - I probably should do some formatting here\n",
    "#ouput some summary stats\n",
    "print('Dist1 Summary')\n",
    "print (np.mean (dist1))\n",
    "print (np.var (dist1))\n",
    "print (np.median (dist1))\n",
    "\n",
    "print('Dist2 Summary')\n",
    "print (np.mean (outlierdist))\n",
    "print (np.var (outlierdist))\n",
    "print (np.median (outlierdist))\n",
    "\n",
    "#check for correlation  \n",
    "print('Correlation Coefficients')\n",
    "print (pearsonr(dist1,outlierdist))\n",
    "\n",
    "#graphing both drawn variables \n",
    "fig, axes = plt.subplots (1,2, figsize=(15,3))\n",
    "axes[0].hist(dist1)\n",
    "axes[0].set_title (\"Sample 1\")\n",
    "axes[1].hist(outlierdist)\n",
    "axes[1].set_title(\"Sample 2\")\n",
    "\n",
    "#plt.hist((dist1,outlierdist))\n",
    "plt.show()\n",
    "\n",
    "#filter data or data of interest and do something with it as if real world! \n",
    "index = outlierdist > 110\n",
    "data = outlierdist[index]\n",
    "print(data)\n",
    "data2 = data/4*100\n",
    "print (data2)"
   ]
  },
  {
   "cell_type": "markdown",
   "metadata": {},
   "source": [
    "### Binomial Distribution"
   ]
  },
  {
   "cell_type": "markdown",
   "metadata": {},
   "source": [
    "The binomial distribution is a discrete probability distribution used when there are only two possible outcomes for a random variable: success and failure. Success and failure are mutually exclusive; they cannot occur at the same time. The binomial distribution assumes a finite number of trials, n. NumPy requires the probability set from 0-1 and an integer for number of trials. "
   ]
  },
  {
   "cell_type": "code",
   "execution_count": 83,
   "metadata": {},
   "outputs": [
    {
     "data": {
      "text/plain": [
       "array([12, 12, 14, 14, 11, 11, 12, 12,  9, 12])"
      ]
     },
     "execution_count": 83,
     "metadata": {},
     "output_type": "execute_result"
    }
   ],
   "source": [
    "# n = 100, p = 0.6\n",
    "\n",
    "n, p = 19, 0.6 \n",
    "# get a variable from a random binomial distribution, call it s\n",
    "s = np.random.binomial(n,p,10) # repeat 10 times\n",
    "\n",
    "#show s\n",
    "s"
   ]
  },
  {
   "cell_type": "code",
   "execution_count": 84,
   "metadata": {},
   "outputs": [
    {
     "data": {
      "image/png": "[encoded data removed]",
      "text/plain": [
       "<Figure size 432x288 with 1 Axes>"
      ]
     },
     "metadata": {
      "needs_background": "light"
     },
     "output_type": "display_data"
    }
   ],
   "source": [
    "# a shop makes red bikes and blue bikes. the mix is 50% blue and 50% red\n",
    "# you choose 10 bikes at random and picking blue is success. you do this 20000 times.\n",
    "n, p = 10, 0.5\n",
    "N = 20000\n",
    "binom = np.random.binomial(n,p,N)\n",
    "\n",
    "# it should be about 50/50, roughly peaking around 5 as i have a 50/50 chance\n",
    "plt.hist(binom, bins =15)\n",
    "plt.show()"
   ]
  },
  {
   "cell_type": "code",
   "execution_count": 85,
   "metadata": {},
   "outputs": [
    {
     "name": "stdout",
     "output_type": "stream",
     "text": [
      "The probability of that happening is in percent 10.39\n"
     ]
    }
   ],
   "source": [
    "# a company makes 10 concept prototypes per year. Each prototype has a success probability of 0.2\n",
    "# all 10 fail, what are the chances of that? Trial it 10000 times\n",
    "\n",
    "n,p = 10,0.2\n",
    "N= 10000\n",
    "\n",
    "ans = sum(np.random.binomial(n,p,10000) == 0)/10000\n",
    "\n",
    "ans\n",
    "\n",
    "ans = ans*100\n",
    "\n",
    "print('The probability of that happening is in percent',ans)\n"
   ]
  },
  {
   "cell_type": "markdown",
   "metadata": {},
   "source": [
    "### Poisson Distribution"
   ]
  },
  {
   "cell_type": "markdown",
   "metadata": {},
   "source": [
    "Poisson distributions are usually used to model the number of times an event happened in a time interval. This could be how many goals were scored in the 3rd round of the FA Cup or how much defects will there be in every 1000 products I make. It's similiar to binomial except we are not counting a success of a number of trials."
   ]
  },
  {
   "cell_type": "code",
   "execution_count": 86,
   "metadata": {},
   "outputs": [
    {
     "data": {
      "image/png": "[encoded data removed]",
      "text/plain": [
       "<Figure size 432x288 with 1 Axes>"
      ]
     },
     "metadata": {
      "needs_background": "light"
     },
     "output_type": "display_data"
    }
   ],
   "source": [
    "import numpy as np\n",
    "from numpy import random\n",
    "import matplotlib.pyplot as plt \n",
    "\n",
    "# lamda is set to 5, size is set to 10000\n",
    "#lamda is the rate that event occurs i.e. average or variance\n",
    "s = np.random.poisson(5,10000)\n",
    "count, bins, ignored = plt.hist(s, 14, density=True)\n",
    "plt.show()"
   ]
  },
  {
   "cell_type": "code",
   "execution_count": 87,
   "metadata": {},
   "outputs": [
    {
     "name": "stdout",
     "output_type": "stream",
     "text": [
      "Mean is = 1.9856\n",
      "StDev is = 1.4141402476416547\n"
     ]
    },
    {
     "data": {
      "image/png": "[encoded data removed]",
      "text/plain": [
       "<Figure size 432x288 with 1 Axes>"
      ]
     },
     "metadata": {
      "needs_background": "light"
     },
     "output_type": "display_data"
    }
   ],
   "source": [
    "import numpy as np\n",
    "from numpy import random\n",
    "import matplotlib.pyplot as plt \n",
    "\n",
    "#try different values for Iam and n, then look at the drawn sample \n",
    "lam = 2\n",
    "n = 10000\n",
    "x = np.random.poisson(lam,n)\n",
    "\n",
    "\n",
    "print ('Mean is =',np.mean(x))\n",
    "print ('StDev is =',np.std(x))\n",
    "\n",
    "#graphing\n",
    "plt.hist(x, bins=25)\n",
    "plt.title(\"10000 Poisson Random Variables\")\n",
    "plt.xlabel(\"No of Goals Scored\")\n",
    "plt.show()"
   ]
  },
  {
   "cell_type": "markdown",
   "metadata": {},
   "source": [
    "Above, we can see that the number of goals (rate of occurence or lamda)are largest around the mean. You could guess that you are likely to see 2 goals on average.\n",
    "\n",
    "Below, we can attempt to figure out which of two call centres takes more calls per hour"
   ]
  },
  {
   "cell_type": "code",
   "execution_count": 99,
   "metadata": {},
   "outputs": [
    {
     "data": {
      "image/png": "[encoded data removed]",
      "text/plain": [
       "<Figure size 1080x288 with 2 Axes>"
      ]
     },
     "metadata": {
      "needs_background": "light"
     },
     "output_type": "display_data"
    },
    {
     "data": {
      "image/png": "[encoded data removed]",
      "text/plain": [
       "<Figure size 1080x288 with 2 Axes>"
      ]
     },
     "metadata": {
      "needs_background": "light"
     },
     "output_type": "display_data"
    }
   ],
   "source": [
    "#two call centres, 1 takes 5000 calls in 1000 hrs, the other 8000 calls in 5000 hrs\n",
    "\n",
    "import numpy as np\n",
    "from numpy import random\n",
    "import matplotlib.pyplot as plt\n",
    "\n",
    "call_centre1 = np.random.poisson(5000,1000)\n",
    "call_centre2 = np.random.poisson(8000,5000)\n",
    "\n",
    "#graphing both drawn variables \n",
    "fig, axes = plt.subplots (1,2, figsize=(15,4))\n",
    "axes[0].hist(call_centre1)\n",
    "axes[0].set_title (\"Call Centre 1\")\n",
    "axes[1].hist(call_centre2)\n",
    "axes[1].set_title(\"Call Centre 2\")\n",
    "\n",
    "#plt.hist((call_centre1,call_centre2))\n",
    "plt.show()\n",
    "\n",
    "# now change the occurence to the same overvation space\n",
    "# Call Centre 1 = 5000/1000 = 5 per hour\n",
    "# Call Centre 2 = 8000/5000 = 1.6 per hour\n",
    "\n",
    "#call centres with the same observation space \n",
    "call_centre1x = np.random.poisson(5,1)\n",
    "call_centre2x = np.random.poisson(1.6,1)\n",
    "\n",
    "#graphing both drawn variables \n",
    "fig, axes = plt.subplots (1,2, figsize=(15,4))\n",
    "axes[0].hist(call_centre1x)\n",
    "axes[0].set_title (\"Call Centre 1\")\n",
    "axes[1].hist(call_centre2x)\n",
    "axes[1].set_title(\"Call Centre 2\")\n",
    "\n",
    "#plt.hist((call_centre1x,call_centre2x))\n",
    "plt.show()"
   ]
  },
  {
   "cell_type": "markdown",
   "metadata": {},
   "source": [
    "###  Distribution"
   ]
  }
 ],
 "metadata": {
  "kernelspec": {
   "display_name": "Python 3",
   "language": "python",
   "name": "python3"
  },
  "language_info": {
   "codemirror_mode": {
    "name": "ipython",
    "version": 3
   },
   "file_extension": ".py",
   "mimetype": "text/x-python",
   "name": "python",
   "nbconvert_exporter": "python",
   "pygments_lexer": "ipython3",
   "version": "3.6.6"
  }
 },
 "nbformat": 4,
 "nbformat_minor": 2
}
