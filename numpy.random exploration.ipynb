{
 "cells": [
  {
   "cell_type": "markdown",
   "metadata": {},
   "source": [
    "## NumPy.Random Package "
   ]
  },
  {
   "cell_type": "markdown",
   "metadata": {},
   "source": [
    "### Overall Purpose:"
   ]
  },
  {
   "cell_type": "markdown",
   "metadata": {},
   "source": [
    "The purpose of the package is to build upon the existing random module in the python standard library. The existing random module has functionality for creating single random numbers and a some simple distributions. The numpy random package offers all of this functionality with the addition of generating random numbers inside numpy arrays.It also supports a larger amount of distributions with further options within those distributions.NumPy.random is also significantly faster than the standard random module for generating very large samples.   "
   ]
  },
  {
   "cell_type": "markdown",
   "metadata": {},
   "source": [
    "### Simple Random Data"
   ]
  },
  {
   "cell_type": "code",
   "execution_count": 6,
   "metadata": {},
   "outputs": [],
   "source": [
    "import numpy as np\n",
    "from numpy import random"
   ]
  },
  {
   "cell_type": "markdown",
   "metadata": {},
   "source": [
    "The .rand function allows you to create an array of a specified shape. That can be 1D by passing one number as an argument, 2D by passing two and 3D by passing three. The array will contain data from a uniform distribution over the range 0-1. For example, in the next line of code it shows a 5 row x 3 column array with all positive values. "
   ]
  },
  {
   "cell_type": "code",
   "execution_count": 31,
   "metadata": {},
   "outputs": [],
   "source": [
    "measurements = np.random.rand(3,3,3)"
   ]
  },
  {
   "cell_type": "code",
   "execution_count": 32,
   "metadata": {},
   "outputs": [
    {
     "name": "stdout",
     "output_type": "stream",
     "text": [
      "[[[0.98949487 0.72005563 0.68036797]\n",
      "  [0.5210059  0.81532369 0.35709735]\n",
      "  [0.14588765 0.28026237 0.05740311]]\n",
      "\n",
      " [[0.37174214 0.92848093 0.61758531]\n",
      "  [0.79586534 0.52585505 0.54838118]\n",
      "  [0.03017434 0.04129941 0.55218872]]\n",
      "\n",
      " [[0.46946161 0.09634675 0.15877388]\n",
      "  [0.19783292 0.17314592 0.38003137]\n",
      "  [0.325065   0.87530286 0.07735365]]]\n"
     ]
    }
   ],
   "source": [
    "print(measurements)"
   ]
  },
  {
   "cell_type": "markdown",
   "metadata": {},
   "source": [
    "When no argument is passed, i.e. nothing in the parenthesis (), then a single floating point number is returned.   "
   ]
  },
  {
   "cell_type": "code",
   "execution_count": 12,
   "metadata": {},
   "outputs": [
    {
     "data": {
      "text/plain": [
       "0.5137914233835779"
      ]
     },
     "execution_count": 12,
     "metadata": {},
     "output_type": "execute_result"
    }
   ],
   "source": [
    "np.random.rand()"
   ]
  },
  {
   "cell_type": "markdown",
   "metadata": {},
   "source": [
    "The .randn function will return an array (1D-3D) of samples or just one sample (depending on whether an argument is passed or not) from a normal distribution of mean = 0 and variance =1. Similiar to the .rand function only data is taken from a normal and not uniform distribution. "
   ]
  },
  {
   "cell_type": "code",
   "execution_count": 21,
   "metadata": {},
   "outputs": [],
   "source": [
    "temp_read = np.random.randn(2,3)"
   ]
  },
  {
   "cell_type": "code",
   "execution_count": 22,
   "metadata": {},
   "outputs": [
    {
     "data": {
      "text/plain": [
       "array([[ 1.15014346,  0.7582094 , -0.72477336],\n",
       "       [ 0.66023952, -0.86030215, -1.49231207]])"
      ]
     },
     "execution_count": 22,
     "metadata": {},
     "output_type": "execute_result"
    }
   ],
   "source": [
    "temp_read"
   ]
  },
  {
   "cell_type": "markdown",
   "metadata": {},
   "source": [
    "Randomly generated data can be manipulated using simple maths. "
   ]
  },
  {
   "cell_type": "code",
   "execution_count": 37,
   "metadata": {},
   "outputs": [],
   "source": [
    "# multiply the values in the array by 2\n",
    "temp_read = np.random.randn(2,3)*2"
   ]
  },
  {
   "cell_type": "code",
   "execution_count": 38,
   "metadata": {},
   "outputs": [
    {
     "data": {
      "text/plain": [
       "array([[4.79585601, 1.16532713, 1.29168432],\n",
       "       [3.06521918, 0.87197434, 0.39534262]])"
      ]
     },
     "execution_count": 38,
     "metadata": {},
     "output_type": "execute_result"
    }
   ],
   "source": [
    "temp_read"
   ]
  },
  {
   "cell_type": "code",
   "execution_count": 35,
   "metadata": {},
   "outputs": [],
   "source": [
    "# multiplication and addition\n",
    "temp_read = np.random.randn(2,3)*3 + 2"
   ]
  },
  {
   "cell_type": "code",
   "execution_count": 36,
   "metadata": {},
   "outputs": [
    {
     "data": {
      "text/plain": [
       "array([[ 1.89116666,  6.19377435,  0.1314365 ],\n",
       "       [ 5.22386893, -0.15294867,  2.39021797]])"
      ]
     },
     "execution_count": 36,
     "metadata": {},
     "output_type": "execute_result"
    }
   ],
   "source": [
    "temp_read"
   ]
  },
  {
   "cell_type": "markdown",
   "metadata": {},
   "source": [
    "The .randint function returns random integers from a discrete uniform distribution from a range of low to high, including the low but excluding the high. The size of the array that is returned can be set i.e. give me five random numbers from the list of 1-8 (including one but excluding eight)"
   ]
  },
  {
   "cell_type": "code",
   "execution_count": 127,
   "metadata": {},
   "outputs": [
    {
     "data": {
      "text/plain": [
       "2"
      ]
     },
     "execution_count": 127,
     "metadata": {},
     "output_type": "execute_result"
    }
   ],
   "source": [
    "# random number between 0 and 3 (inclusive of 0, exclusive of 3. The high is not set) \n",
    "np.random.randint(3)"
   ]
  },
  {
   "cell_type": "code",
   "execution_count": 126,
   "metadata": {},
   "outputs": [
    {
     "data": {
      "text/plain": [
       "4"
      ]
     },
     "execution_count": 126,
     "metadata": {},
     "output_type": "execute_result"
    }
   ],
   "source": [
    "# inclusive of 1 but excluding 5\n",
    "np.random.randint(1,5)"
   ]
  },
  {
   "cell_type": "code",
   "execution_count": 136,
   "metadata": {},
   "outputs": [
    {
     "data": {
      "text/plain": [
       "array([ 9,  4, 14, 13, 14,  6,  5, 11,  3,  7])"
      ]
     },
     "execution_count": 136,
     "metadata": {},
     "output_type": "execute_result"
    }
   ],
   "source": [
    "#return 10 numbers in the array, from 3-14)\n",
    "np.random.randint(3,15, size=10)"
   ]
  },
  {
   "cell_type": "code",
   "execution_count": null,
   "metadata": {},
   "outputs": [],
   "source": []
  }
 ],
 "metadata": {
  "kernelspec": {
   "display_name": "Python 3",
   "language": "python",
   "name": "python3"
  },
  "language_info": {
   "codemirror_mode": {
    "name": "ipython",
    "version": 3
   },
   "file_extension": ".py",
   "mimetype": "text/x-python",
   "name": "python",
   "nbconvert_exporter": "python",
   "pygments_lexer": "ipython3",
   "version": "3.6.6"
  }
 },
 "nbformat": 4,
 "nbformat_minor": 2
}
