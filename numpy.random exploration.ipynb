{
 "cells": [
  {
   "cell_type": "markdown",
   "metadata": {},
   "source": [
    "## NumPy.Random Package "
   ]
  },
  {
   "cell_type": "markdown",
   "metadata": {},
   "source": [
    "### Overall Purpose:"
   ]
  },
  {
   "cell_type": "markdown",
   "metadata": {},
   "source": [
    "The purpose of the package is to build upon the existing random module in the python standard library. The existing random module has functionality for creating single random numbers and some simple distributions. The numpy random package offers all of this functionality with the addition of generating random numbers inside numpy arrays.It also supports a larger amount of distributions with further options within those distributions.NumPy.random is also significantly faster than the standard random module for generating very large samples. Both NumPy and the standard library use the Mersenne Twister pseudo-random number generator.  "
   ]
  },
  {
   "cell_type": "markdown",
   "metadata": {},
   "source": [
    "### Why Random?"
   ]
  },
  {
   "cell_type": "markdown",
   "metadata": {},
   "source": [
    "Random data (or in this case pseudorandom since computers are deterministic) is useful for simulating real world phenomena which can often appear very complex or appear random. By simultating these events we can learn more about what is likely to occur and when / how often etc. Examples of this would be weather forcasting (meteorology), measurement uncertainty (metrology), economics (trading and finance)and manufacturing (FEA)."
   ]
  },
  {
   "cell_type": "markdown",
   "metadata": {},
   "source": [
    "### Simple Random Data"
   ]
  },
  {
   "cell_type": "markdown",
   "metadata": {},
   "source": [
    "You can visit https://docs.scipy.org/doc/numpy-1.15.1/reference/routines.random.html for a list of simple random data numpy docstrings."
   ]
  },
  {
   "cell_type": "code",
   "execution_count": 41,
   "metadata": {},
   "outputs": [],
   "source": [
    "# an easier way to view information on all functions. It includes great examples. \n",
    "# type help(np.random)"
   ]
  },
  {
   "cell_type": "code",
   "execution_count": 42,
   "metadata": {},
   "outputs": [],
   "source": [
    "#import librarys and functions\n",
    "import numpy as np\n",
    "from numpy import random"
   ]
  },
  {
   "cell_type": "markdown",
   "metadata": {},
   "source": [
    "The .rand function allows you to create an array of a specified shape. That can be 1D by passing one number as an argument, 2D by passing two and 3D by passing three. The array will contain data from a uniform distribution over the range 0-1. For example, in the next line of code it shows a 5 row x 3 column array with all positive values. "
   ]
  },
  {
   "cell_type": "code",
   "execution_count": 43,
   "metadata": {},
   "outputs": [],
   "source": [
    "measurements = np.random.rand(3,3)"
   ]
  },
  {
   "cell_type": "code",
   "execution_count": 44,
   "metadata": {},
   "outputs": [
    {
     "name": "stdout",
     "output_type": "stream",
     "text": [
      "[[0.67764231 0.81081983 0.54293319]\n",
      " [0.74378546 0.99214046 0.76024875]\n",
      " [0.6284149  0.67467189 0.09959446]]\n"
     ]
    }
   ],
   "source": [
    "print(measurements)"
   ]
  },
  {
   "cell_type": "markdown",
   "metadata": {},
   "source": [
    "When no argument is passed, i.e. nothing in the parenthesis (), then a single floating point number is returned.   "
   ]
  },
  {
   "cell_type": "code",
   "execution_count": 45,
   "metadata": {},
   "outputs": [
    {
     "data": {
      "text/plain": [
       "0.35651577163890047"
      ]
     },
     "execution_count": 45,
     "metadata": {},
     "output_type": "execute_result"
    }
   ],
   "source": [
    "np.random.rand()"
   ]
  },
  {
   "cell_type": "markdown",
   "metadata": {},
   "source": [
    "The .randn function will return an array (1D-3D) of samples or just one sample (depending on whether an argument is passed or not) from a normal distribution of mean = 0 and variance =1. Similiar to the .rand function only data is taken from a normal and not uniform distribution. "
   ]
  },
  {
   "cell_type": "code",
   "execution_count": 46,
   "metadata": {},
   "outputs": [],
   "source": [
    "temp_read = np.random.randn(2,3)"
   ]
  },
  {
   "cell_type": "code",
   "execution_count": 47,
   "metadata": {},
   "outputs": [
    {
     "data": {
      "text/plain": [
       "array([[ 1.86819154, -0.05049442, -0.47833442],\n",
       "       [ 1.52142955, -0.0340414 , -0.88756973]])"
      ]
     },
     "execution_count": 47,
     "metadata": {},
     "output_type": "execute_result"
    }
   ],
   "source": [
    "temp_read"
   ]
  },
  {
   "cell_type": "markdown",
   "metadata": {},
   "source": [
    "Randomly generated data can be manipulated using simple maths. "
   ]
  },
  {
   "cell_type": "code",
   "execution_count": 48,
   "metadata": {},
   "outputs": [],
   "source": [
    "# multiply the values in the array by 2\n",
    "temp_read = np.random.randn(2,3)*2"
   ]
  },
  {
   "cell_type": "code",
   "execution_count": 49,
   "metadata": {},
   "outputs": [
    {
     "data": {
      "text/plain": [
       "array([[ 4.85525167, -0.68165202,  3.65340038],\n",
       "       [-0.38292821,  0.90554258, -2.79639386]])"
      ]
     },
     "execution_count": 49,
     "metadata": {},
     "output_type": "execute_result"
    }
   ],
   "source": [
    "temp_read"
   ]
  },
  {
   "cell_type": "code",
   "execution_count": 50,
   "metadata": {},
   "outputs": [],
   "source": [
    "# multiplication and addition\n",
    "temp_read = np.random.randn(2,3)*3 + 2"
   ]
  },
  {
   "cell_type": "code",
   "execution_count": 51,
   "metadata": {},
   "outputs": [
    {
     "data": {
      "text/plain": [
       "array([[ 2.69846737,  6.32744271,  2.35999411],\n",
       "       [ 0.4850462 ,  1.44447634, -1.77433092]])"
      ]
     },
     "execution_count": 51,
     "metadata": {},
     "output_type": "execute_result"
    }
   ],
   "source": [
    "temp_read"
   ]
  },
  {
   "cell_type": "markdown",
   "metadata": {},
   "source": [
    "The .randint function returns random integers from a discrete uniform distribution from a range of low to high, including the low but excluding the high. The size of the array that is returned can be set i.e. give me five random numbers from the list of 1-8 (including one but excluding eight)"
   ]
  },
  {
   "cell_type": "code",
   "execution_count": 52,
   "metadata": {},
   "outputs": [
    {
     "data": {
      "text/plain": [
       "0"
      ]
     },
     "execution_count": 52,
     "metadata": {},
     "output_type": "execute_result"
    }
   ],
   "source": [
    "# random number between 0 and 3 (inclusive of 0, exclusive of 3. The high is not set) \n",
    "np.random.randint(3)"
   ]
  },
  {
   "cell_type": "code",
   "execution_count": 53,
   "metadata": {},
   "outputs": [
    {
     "data": {
      "text/plain": [
       "4"
      ]
     },
     "execution_count": 53,
     "metadata": {},
     "output_type": "execute_result"
    }
   ],
   "source": [
    "# inclusive of 1 but excluding 5\n",
    "np.random.randint(1,5)"
   ]
  },
  {
   "cell_type": "code",
   "execution_count": 54,
   "metadata": {},
   "outputs": [
    {
     "data": {
      "text/plain": [
       "array([ 3,  3,  7, 12, 14, 14, 13, 12, 10,  3])"
      ]
     },
     "execution_count": 54,
     "metadata": {},
     "output_type": "execute_result"
    }
   ],
   "source": [
    "#return 10 numbers in the array, from 3-14)\n",
    "np.random.randint(low=3,high=15, size=10)"
   ]
  },
  {
   "cell_type": "markdown",
   "metadata": {},
   "source": [
    "It might be useful to plot your data to ensure you have the right distribution "
   ]
  },
  {
   "cell_type": "code",
   "execution_count": 55,
   "metadata": {},
   "outputs": [
    {
     "name": "stdout",
     "output_type": "stream",
     "text": [
      "Data distributions from functions within the numPy.random package\n"
     ]
    }
   ],
   "source": [
    "# to show that rand, randn and randint are distributed as they should be. should return uniform/normal/uniform \n",
    "\n",
    "# import library - pyplot needed for subplot\n",
    "import matplotlib.pyplot as plt\n",
    "\n",
    "fig, axes = plt.subplots (1,3, figsize=(15,3))\n",
    "axes[0].hist(np.random.rand(15000))\n",
    "axes[0].set_title (\"rand dist\")\n",
    "axes[1].hist(np.random.randn(15000))\n",
    "axes[1].set_title(\"randn dist\")\n",
    "axes[2].hist(np.random.randint(low=1, high=1000, size=15000), bins=12, align = 'left')\n",
    "axes[2].set_title (\"randint dist\")\n",
    "\n",
    "plt.show\n",
    "\n",
    "print(\"Data distributions from functions within the numPy.random package\")"
   ]
  },
  {
   "cell_type": "markdown",
   "metadata": {},
   "source": [
    "Create a random list of computer games and make a dataframe."
   ]
  },
  {
   "cell_type": "code",
   "execution_count": 56,
   "metadata": {
    "scrolled": true
   },
   "outputs": [
    {
     "data": {
      "text/html": [
       "<div>\n",
       "<style scoped>\n",
       "    .dataframe tbody tr th:only-of-type {\n",
       "        vertical-align: middle;\n",
       "    }\n",
       "\n",
       "    .dataframe tbody tr th {\n",
       "        vertical-align: top;\n",
       "    }\n",
       "\n",
       "    .dataframe thead th {\n",
       "        text-align: right;\n",
       "    }\n",
       "</style>\n",
       "<table border=\"1\" class=\"dataframe\">\n",
       "  <thead>\n",
       "    <tr style=\"text-align: right;\">\n",
       "      <th></th>\n",
       "      <th>games</th>\n",
       "    </tr>\n",
       "  </thead>\n",
       "  <tbody>\n",
       "    <tr>\n",
       "      <th>0</th>\n",
       "      <td>GTA5</td>\n",
       "    </tr>\n",
       "    <tr>\n",
       "      <th>1</th>\n",
       "      <td>SUPER MARIO BROS</td>\n",
       "    </tr>\n",
       "    <tr>\n",
       "      <th>2</th>\n",
       "      <td>TOMB RAIDER</td>\n",
       "    </tr>\n",
       "    <tr>\n",
       "      <th>3</th>\n",
       "      <td>FIFA 19</td>\n",
       "    </tr>\n",
       "    <tr>\n",
       "      <th>4</th>\n",
       "      <td>FIFA 19</td>\n",
       "    </tr>\n",
       "    <tr>\n",
       "      <th>5</th>\n",
       "      <td>DOOM</td>\n",
       "    </tr>\n",
       "    <tr>\n",
       "      <th>6</th>\n",
       "      <td>BATTLEFIELD V</td>\n",
       "    </tr>\n",
       "    <tr>\n",
       "      <th>7</th>\n",
       "      <td>CRYSIS</td>\n",
       "    </tr>\n",
       "    <tr>\n",
       "      <th>8</th>\n",
       "      <td>DOOM</td>\n",
       "    </tr>\n",
       "    <tr>\n",
       "      <th>9</th>\n",
       "      <td>GEARS OF WAR</td>\n",
       "    </tr>\n",
       "    <tr>\n",
       "      <th>10</th>\n",
       "      <td>FIFA 19</td>\n",
       "    </tr>\n",
       "    <tr>\n",
       "      <th>11</th>\n",
       "      <td>GTA5</td>\n",
       "    </tr>\n",
       "    <tr>\n",
       "      <th>12</th>\n",
       "      <td>HALO 5</td>\n",
       "    </tr>\n",
       "    <tr>\n",
       "      <th>13</th>\n",
       "      <td>TOMB RAIDER</td>\n",
       "    </tr>\n",
       "    <tr>\n",
       "      <th>14</th>\n",
       "      <td>FIFA 19</td>\n",
       "    </tr>\n",
       "    <tr>\n",
       "      <th>15</th>\n",
       "      <td>GTA5</td>\n",
       "    </tr>\n",
       "    <tr>\n",
       "      <th>16</th>\n",
       "      <td>GEARS OF WAR</td>\n",
       "    </tr>\n",
       "    <tr>\n",
       "      <th>17</th>\n",
       "      <td>GEARS OF WAR</td>\n",
       "    </tr>\n",
       "    <tr>\n",
       "      <th>18</th>\n",
       "      <td>CIVILISATION VI</td>\n",
       "    </tr>\n",
       "    <tr>\n",
       "      <th>19</th>\n",
       "      <td>DOOM</td>\n",
       "    </tr>\n",
       "    <tr>\n",
       "      <th>20</th>\n",
       "      <td>FIFA 19</td>\n",
       "    </tr>\n",
       "    <tr>\n",
       "      <th>21</th>\n",
       "      <td>TOMB RAIDER</td>\n",
       "    </tr>\n",
       "    <tr>\n",
       "      <th>22</th>\n",
       "      <td>FIFA 19</td>\n",
       "    </tr>\n",
       "    <tr>\n",
       "      <th>23</th>\n",
       "      <td>SUPER MARIO BROS</td>\n",
       "    </tr>\n",
       "    <tr>\n",
       "      <th>24</th>\n",
       "      <td>HALO 5</td>\n",
       "    </tr>\n",
       "    <tr>\n",
       "      <th>25</th>\n",
       "      <td>CALL OF DUTY</td>\n",
       "    </tr>\n",
       "    <tr>\n",
       "      <th>26</th>\n",
       "      <td>CALL OF DUTY</td>\n",
       "    </tr>\n",
       "    <tr>\n",
       "      <th>27</th>\n",
       "      <td>DOOM</td>\n",
       "    </tr>\n",
       "    <tr>\n",
       "      <th>28</th>\n",
       "      <td>TOMB RAIDER</td>\n",
       "    </tr>\n",
       "    <tr>\n",
       "      <th>29</th>\n",
       "      <td>GTA5</td>\n",
       "    </tr>\n",
       "    <tr>\n",
       "      <th>30</th>\n",
       "      <td>FIFA 19</td>\n",
       "    </tr>\n",
       "    <tr>\n",
       "      <th>31</th>\n",
       "      <td>TOMB RAIDER</td>\n",
       "    </tr>\n",
       "    <tr>\n",
       "      <th>32</th>\n",
       "      <td>SUPER MARIO BROS</td>\n",
       "    </tr>\n",
       "    <tr>\n",
       "      <th>33</th>\n",
       "      <td>DOOM</td>\n",
       "    </tr>\n",
       "    <tr>\n",
       "      <th>34</th>\n",
       "      <td>TOMB RAIDER</td>\n",
       "    </tr>\n",
       "    <tr>\n",
       "      <th>35</th>\n",
       "      <td>TOMB RAIDER</td>\n",
       "    </tr>\n",
       "    <tr>\n",
       "      <th>36</th>\n",
       "      <td>CRYSIS</td>\n",
       "    </tr>\n",
       "    <tr>\n",
       "      <th>37</th>\n",
       "      <td>BATTLEFIELD V</td>\n",
       "    </tr>\n",
       "    <tr>\n",
       "      <th>38</th>\n",
       "      <td>GTA5</td>\n",
       "    </tr>\n",
       "    <tr>\n",
       "      <th>39</th>\n",
       "      <td>HALO 5</td>\n",
       "    </tr>\n",
       "    <tr>\n",
       "      <th>40</th>\n",
       "      <td>TOMB RAIDER</td>\n",
       "    </tr>\n",
       "    <tr>\n",
       "      <th>41</th>\n",
       "      <td>HALO 5</td>\n",
       "    </tr>\n",
       "    <tr>\n",
       "      <th>42</th>\n",
       "      <td>DOOM</td>\n",
       "    </tr>\n",
       "    <tr>\n",
       "      <th>43</th>\n",
       "      <td>SUPER MARIO BROS</td>\n",
       "    </tr>\n",
       "    <tr>\n",
       "      <th>44</th>\n",
       "      <td>DOOM</td>\n",
       "    </tr>\n",
       "    <tr>\n",
       "      <th>45</th>\n",
       "      <td>TOMB RAIDER</td>\n",
       "    </tr>\n",
       "    <tr>\n",
       "      <th>46</th>\n",
       "      <td>HALO 5</td>\n",
       "    </tr>\n",
       "    <tr>\n",
       "      <th>47</th>\n",
       "      <td>HALO 5</td>\n",
       "    </tr>\n",
       "    <tr>\n",
       "      <th>48</th>\n",
       "      <td>GTA5</td>\n",
       "    </tr>\n",
       "    <tr>\n",
       "      <th>49</th>\n",
       "      <td>CIVILISATION VI</td>\n",
       "    </tr>\n",
       "  </tbody>\n",
       "</table>\n",
       "</div>"
      ],
      "text/plain": [
       "               games\n",
       "0               GTA5\n",
       "1   SUPER MARIO BROS\n",
       "2        TOMB RAIDER\n",
       "3            FIFA 19\n",
       "4            FIFA 19\n",
       "5               DOOM\n",
       "6      BATTLEFIELD V\n",
       "7             CRYSIS\n",
       "8               DOOM\n",
       "9       GEARS OF WAR\n",
       "10           FIFA 19\n",
       "11              GTA5\n",
       "12            HALO 5\n",
       "13       TOMB RAIDER\n",
       "14           FIFA 19\n",
       "15              GTA5\n",
       "16      GEARS OF WAR\n",
       "17      GEARS OF WAR\n",
       "18   CIVILISATION VI\n",
       "19              DOOM\n",
       "20           FIFA 19\n",
       "21       TOMB RAIDER\n",
       "22           FIFA 19\n",
       "23  SUPER MARIO BROS\n",
       "24            HALO 5\n",
       "25      CALL OF DUTY\n",
       "26      CALL OF DUTY\n",
       "27              DOOM\n",
       "28       TOMB RAIDER\n",
       "29              GTA5\n",
       "30           FIFA 19\n",
       "31       TOMB RAIDER\n",
       "32  SUPER MARIO BROS\n",
       "33              DOOM\n",
       "34       TOMB RAIDER\n",
       "35       TOMB RAIDER\n",
       "36            CRYSIS\n",
       "37     BATTLEFIELD V\n",
       "38              GTA5\n",
       "39            HALO 5\n",
       "40       TOMB RAIDER\n",
       "41            HALO 5\n",
       "42              DOOM\n",
       "43  SUPER MARIO BROS\n",
       "44              DOOM\n",
       "45       TOMB RAIDER\n",
       "46            HALO 5\n",
       "47            HALO 5\n",
       "48              GTA5\n",
       "49   CIVILISATION VI"
      ]
     },
     "execution_count": 56,
     "metadata": {},
     "output_type": "execute_result"
    }
   ],
   "source": [
    "##import librarys and functions\n",
    "import numpy as np\n",
    "from numpy import random\n",
    "import pandas as pd\n",
    "\n",
    "#define the games\n",
    "games = ['GTA5','HALO 5','CIVILISATION VI','BATTLEFIELD V',\n",
    "         'CALL OF DUTY', 'SUPER MARIO BROS','TOMB RAIDER',\n",
    "         'GEARS OF WAR', 'DOOM', 'FIFA 19', 'CRYSIS']\n",
    "randgames = []\n",
    "# i just want 50 games for this example. loop until i = 50\n",
    "for i in range (50): \n",
    "    # random ints from 0 to length of the games list\n",
    "    game = games[np.random.randint(low=0, high=len(games))]\n",
    "    randgames.append(game)\n",
    "\n",
    "# creating my own dataset \n",
    "gamedataset = list(zip(randgames))\n",
    "df=pd.DataFrame(data = gamedataset, \n",
    "                columns=['games'])\n",
    "\n",
    "df\n"
   ]
  },
  {
   "cell_type": "markdown",
   "metadata": {},
   "source": [
    "The choice function allows you to create a unique set of integers from a population. You won't have duplication, i.e. it will ensure that you do not / you cannot select the same integer twice just as you would if you were randomly sampling from a population or sample population."
   ]
  },
  {
   "cell_type": "code",
   "execution_count": 57,
   "metadata": {},
   "outputs": [
    {
     "data": {
      "text/plain": [
       "array([ 1,  2,  1, 10,  2,  5,  3,  3])"
      ]
     },
     "execution_count": 57,
     "metadata": {},
     "output_type": "execute_result"
    }
   ],
   "source": [
    "# return uniform sample from 0-11 (not including 11) of size 8 (number of samples)\n",
    "np.random.choice(11, 8)"
   ]
  },
  {
   "cell_type": "code",
   "execution_count": 58,
   "metadata": {},
   "outputs": [
    {
     "data": {
      "text/plain": [
       "array([ 3,  6,  9,  5,  1,  8,  7, 10])"
      ]
     },
     "execution_count": 58,
     "metadata": {},
     "output_type": "execute_result"
    }
   ],
   "source": [
    "# replace keyword used. False means that the ints are selected without replacement.\n",
    "np.random.choice(11, 8, replace = False)"
   ]
  },
  {
   "cell_type": "markdown",
   "metadata": {},
   "source": [
    "Since it's integers, we can use this for a list of items also and also include probability of those items being selected. If the probability is not given it wil assume a uniform distribution over the entries."
   ]
  },
  {
   "cell_type": "code",
   "execution_count": 59,
   "metadata": {},
   "outputs": [
    {
     "data": {
      "text/plain": [
       "array([1, 2, 2], dtype=int64)"
      ]
     },
     "execution_count": 59,
     "metadata": {},
     "output_type": "execute_result"
    }
   ],
   "source": [
    "np.random.choice(5, 3, p = [0.1,0.5,0.1,0.1,0.2,])\n"
   ]
  },
  {
   "cell_type": "code",
   "execution_count": 60,
   "metadata": {},
   "outputs": [
    {
     "name": "stdout",
     "output_type": "stream",
     "text": [
      "['vw', 'ford', 'audi', 'skoda', 'seat']\n",
      "['ford' 'ford' 'seat' 'ford' 'vw']\n"
     ]
    }
   ],
   "source": [
    "# return 5 cars from 'cars' and call that a dataset\n",
    "\n",
    "#import librarys and functions\n",
    "import numpy as np\n",
    "from numpy import random\n",
    "cars = ['vw','ford','audi','skoda','seat',]\n",
    "dataset = np.random.choice(cars,5, p = [0.1,0.5,0.1,0.1,0.2,])\n",
    "print(cars)\n",
    "print(dataset)"
   ]
  },
  {
   "cell_type": "code",
   "execution_count": 61,
   "metadata": {},
   "outputs": [
    {
     "name": "stdout",
     "output_type": "stream",
     "text": [
      "Drumroll please......The winner has won a vodka\n"
     ]
    }
   ],
   "source": [
    "# pick a random gift from a list for winners of the GMIT christmas draw!\n",
    "\n",
    "#import librarys and functions\n",
    "import numpy as np\n",
    "from numpy import random\n",
    "gifts = ['tv', 'playstation', 'xbox', 'vodka', '1yr of free dinners' ]\n",
    "prize = np.random.choice(gifts)\n",
    "print('Drumroll please......The winner has won a', prize)\n"
   ]
  },
  {
   "cell_type": "markdown",
   "metadata": {},
   "source": [
    "### Permutations"
   ]
  },
  {
   "cell_type": "markdown",
   "metadata": {},
   "source": [
    "The shuffle function modifies a sequence in-place by shuffling it's contents. You can do this for 1D arrays and 2D or more."
   ]
  },
  {
   "cell_type": "code",
   "execution_count": 62,
   "metadata": {},
   "outputs": [
    {
     "name": "stdout",
     "output_type": "stream",
     "text": [
      "tom\n",
      "tom\n"
     ]
    }
   ],
   "source": [
    "# pick a winner from 'winners', then shuffle and pick a winner again\n",
    "import numpy as np\n",
    "from numpy import random\n",
    "\n",
    "winners = ['pat', 'tom', 'izzie', 'mike', 'mary'] \n",
    "print (np.random.choice(winners))\n",
    "\n",
    "# change the sequence and choose again\n",
    "np.random.shuffle(winners) \n",
    "print(np.random.choice(winners))"
   ]
  },
  {
   "cell_type": "code",
   "execution_count": 63,
   "metadata": {},
   "outputs": [
    {
     "name": "stdout",
     "output_type": "stream",
     "text": [
      "[27  6 19  8  5 32]\n",
      "[ 8  5  6 19 32 27]\n"
     ]
    }
   ],
   "source": [
    "#import librarys and functions\n",
    "import numpy as np\n",
    "from numpy import random\n",
    "\n",
    "lotto_no = np.array([27,6,19,8,5,32])\n",
    "\n",
    "print(lotto_no)\n",
    "\n",
    "#now shuffle\n",
    "np.random.shuffle(lotto_no)\n",
    "print(lotto_no)"
   ]
  },
  {
   "cell_type": "markdown",
   "metadata": {},
   "source": [
    "The Permutations function randomly permutes a sequence or returns a permuted range. This could be useful for returning a random sample from a dataframe. "
   ]
  },
  {
   "cell_type": "code",
   "execution_count": 64,
   "metadata": {},
   "outputs": [
    {
     "data": {
      "text/html": [
       "<div>\n",
       "<style scoped>\n",
       "    .dataframe tbody tr th:only-of-type {\n",
       "        vertical-align: middle;\n",
       "    }\n",
       "\n",
       "    .dataframe tbody tr th {\n",
       "        vertical-align: top;\n",
       "    }\n",
       "\n",
       "    .dataframe thead th {\n",
       "        text-align: right;\n",
       "    }\n",
       "</style>\n",
       "<table border=\"1\" class=\"dataframe\">\n",
       "  <thead>\n",
       "    <tr style=\"text-align: right;\">\n",
       "      <th></th>\n",
       "      <th>dataset</th>\n",
       "      <th>x</th>\n",
       "      <th>y</th>\n",
       "    </tr>\n",
       "  </thead>\n",
       "  <tbody>\n",
       "    <tr>\n",
       "      <th>24</th>\n",
       "      <td>III</td>\n",
       "      <td>13.0</td>\n",
       "      <td>12.74</td>\n",
       "    </tr>\n",
       "    <tr>\n",
       "      <th>6</th>\n",
       "      <td>I</td>\n",
       "      <td>6.0</td>\n",
       "      <td>7.24</td>\n",
       "    </tr>\n",
       "    <tr>\n",
       "      <th>41</th>\n",
       "      <td>IV</td>\n",
       "      <td>8.0</td>\n",
       "      <td>5.56</td>\n",
       "    </tr>\n",
       "    <tr>\n",
       "      <th>0</th>\n",
       "      <td>I</td>\n",
       "      <td>10.0</td>\n",
       "      <td>8.04</td>\n",
       "    </tr>\n",
       "    <tr>\n",
       "      <th>9</th>\n",
       "      <td>I</td>\n",
       "      <td>7.0</td>\n",
       "      <td>4.82</td>\n",
       "    </tr>\n",
       "    <tr>\n",
       "      <th>25</th>\n",
       "      <td>III</td>\n",
       "      <td>9.0</td>\n",
       "      <td>7.11</td>\n",
       "    </tr>\n",
       "    <tr>\n",
       "      <th>4</th>\n",
       "      <td>I</td>\n",
       "      <td>11.0</td>\n",
       "      <td>8.33</td>\n",
       "    </tr>\n",
       "    <tr>\n",
       "      <th>3</th>\n",
       "      <td>I</td>\n",
       "      <td>9.0</td>\n",
       "      <td>8.81</td>\n",
       "    </tr>\n",
       "    <tr>\n",
       "      <th>18</th>\n",
       "      <td>II</td>\n",
       "      <td>4.0</td>\n",
       "      <td>3.10</td>\n",
       "    </tr>\n",
       "    <tr>\n",
       "      <th>15</th>\n",
       "      <td>II</td>\n",
       "      <td>11.0</td>\n",
       "      <td>9.26</td>\n",
       "    </tr>\n",
       "    <tr>\n",
       "      <th>21</th>\n",
       "      <td>II</td>\n",
       "      <td>5.0</td>\n",
       "      <td>4.74</td>\n",
       "    </tr>\n",
       "    <tr>\n",
       "      <th>26</th>\n",
       "      <td>III</td>\n",
       "      <td>11.0</td>\n",
       "      <td>7.81</td>\n",
       "    </tr>\n",
       "    <tr>\n",
       "      <th>14</th>\n",
       "      <td>II</td>\n",
       "      <td>9.0</td>\n",
       "      <td>8.77</td>\n",
       "    </tr>\n",
       "    <tr>\n",
       "      <th>31</th>\n",
       "      <td>III</td>\n",
       "      <td>7.0</td>\n",
       "      <td>6.42</td>\n",
       "    </tr>\n",
       "    <tr>\n",
       "      <th>36</th>\n",
       "      <td>IV</td>\n",
       "      <td>8.0</td>\n",
       "      <td>8.84</td>\n",
       "    </tr>\n",
       "  </tbody>\n",
       "</table>\n",
       "</div>"
      ],
      "text/plain": [
       "   dataset     x      y\n",
       "24     III  13.0  12.74\n",
       "6        I   6.0   7.24\n",
       "41      IV   8.0   5.56\n",
       "0        I  10.0   8.04\n",
       "9        I   7.0   4.82\n",
       "25     III   9.0   7.11\n",
       "4        I  11.0   8.33\n",
       "3        I   9.0   8.81\n",
       "18      II   4.0   3.10\n",
       "15      II  11.0   9.26\n",
       "21      II   5.0   4.74\n",
       "26     III  11.0   7.81\n",
       "14      II   9.0   8.77\n",
       "31     III   7.0   6.42\n",
       "36      IV   8.0   8.84"
      ]
     },
     "execution_count": 64,
     "metadata": {},
     "output_type": "execute_result"
    }
   ],
   "source": [
    "#import librarys and functions\n",
    "import numpy as np\n",
    "from numpy import random\n",
    "import seaborn as sns\n",
    "\n",
    "#load anscombe dataset from seaborn\n",
    "df = sns.load_dataset(\"anscombe\")\n",
    "\n",
    "# display a random permutation/sample of 15 rows from anscombe df \n",
    "df.take(np.random.permutation(len(df))[:15])"
   ]
  },
  {
   "cell_type": "markdown",
   "metadata": {},
   "source": [
    "### Distributions:"
   ]
  },
  {
   "cell_type": "markdown",
   "metadata": {},
   "source": [
    "### Normal Distribution"
   ]
  },
  {
   "cell_type": "markdown",
   "metadata": {},
   "source": [
    "The normal distribution is sometimes called the bell curve due to its shape. It has two parameters, X bar (mean) and sigma (standard deviation). It occurs quite a lot in the real world. If we had a real world application that we wanted to model where most of the values fall around a value Xbar with a spread of sigma then this distribution would suit. Examples might be (1) the  height of adult males in ireland where average is 180cm and standard dev is 20cm or (2) speed of cars where 80km/h is average and 10km is the standard deviation. If i have a large sigma, i'm more likely to pick a value further away from Xbar."
   ]
  },
  {
   "cell_type": "code",
   "execution_count": 65,
   "metadata": {},
   "outputs": [
    {
     "name": "stdout",
     "output_type": "stream",
     "text": [
      "57.526913280185454\n",
      "[77.06006826 92.48824454 82.59552952 80.46669282 65.90292977 74.99810328\n",
      " 83.53062895 66.99451961 71.18841469 85.92485775]\n"
     ]
    }
   ],
   "source": [
    "import numpy as np\n",
    "from numpy import random\n",
    "# one sample drawn from the norm dist of mean 80 and stdev 10\n",
    "print(np.random.normal(80,10, size = None))\n",
    "\n",
    "#10 drawn samples in an array from a normal distribution of mean 80, stdev 10\n",
    "print(np.random.normal(80,10, 10))"
   ]
  },
  {
   "cell_type": "code",
   "execution_count": 66,
   "metadata": {},
   "outputs": [
    {
     "data": {
      "image/png": "[encoded data removed]",
      "text/plain": [
       "<Figure size 432x288 with 1 Axes>"
      ]
     },
     "metadata": {
      "needs_background": "light"
     },
     "output_type": "display_data"
    }
   ],
   "source": [
    "#plot the histogram of the 5000 data point from a normal distribution \n",
    "import numpy as np\n",
    "from numpy import random\n",
    "import matplotlib.pyplot as plt\n",
    "plt.hist(np.random.normal(80,10, 5000))\n",
    "\n",
    "plt.title(' Driver speed in Ireland')\n",
    "\n",
    "plt.show()\n"
   ]
  },
  {
   "cell_type": "markdown",
   "metadata": {},
   "source": [
    "This could be used for comparing datasets or set up a script for outlier detection. Here we can try to see how two variables of 5000 points each from normal distributions correlate by inducing an outlier into one variable."
   ]
  },
  {
   "cell_type": "code",
   "execution_count": 67,
   "metadata": {},
   "outputs": [
    {
     "name": "stdout",
     "output_type": "stream",
     "text": [
      "Dist1 Summary\n",
      "80.06536482423213\n",
      "98.50725460853823\n",
      "80.09160371029824\n",
      "Dist2 Summary\n",
      "80.09160226002406\n",
      "101.3581056001285\n",
      "80.09348888010929\n",
      "Correlation Coefficients\n",
      "(0.9828817672829242, 0.0)\n"
     ]
    },
    {
     "data": {
      "image/png": "[encoded data removed]",
      "text/plain": [
       "<Figure size 1080x216 with 2 Axes>"
      ]
     },
     "metadata": {
      "needs_background": "light"
     },
     "output_type": "display_data"
    },
    {
     "name": "stdout",
     "output_type": "stream",
     "text": [
      "[200.         110.73766954 111.40275582 126.11403137 113.32538213]\n",
      "[5000.         2768.44173839 2785.06889554 3152.85078413 2833.13455332]\n"
     ]
    }
   ],
   "source": [
    "import numpy as np\n",
    "from numpy import random\n",
    "#from the scipy library\n",
    "import scipy\n",
    "#from the scipy library import the pearsonr function\n",
    "from scipy.stats import pearsonr\n",
    "\n",
    "\n",
    "\n",
    "# dist1 variable with 5000 points\n",
    "dist1 = np.random.normal(80,10,5000)\n",
    "\n",
    "#create a copy of the dist1 variable and call it outlierdist\n",
    "outlierdist = dist1.copy()\n",
    "# induce an outlier at index 0 with a value of 200\n",
    "outlierdist[0] = 200\n",
    "\n",
    "#note - I probably should do some formatting here\n",
    "#ouput some summary stats\n",
    "print('Dist1 Summary')\n",
    "print (np.mean (dist1))\n",
    "print (np.var (dist1))\n",
    "print (np.median (dist1))\n",
    "\n",
    "print('Dist2 Summary')\n",
    "print (np.mean (outlierdist))\n",
    "print (np.var (outlierdist))\n",
    "print (np.median (outlierdist))\n",
    "\n",
    "#check for correlation  \n",
    "print('Correlation Coefficients')\n",
    "print (pearsonr(dist1,outlierdist))\n",
    "\n",
    "#graphing both drawn variables \n",
    "fig, axes = plt.subplots (1,2, figsize=(15,3))\n",
    "axes[0].hist(dist1)\n",
    "axes[0].set_title (\"Sample 1\")\n",
    "axes[1].hist(outlierdist)\n",
    "axes[1].set_title(\"Sample 2\")\n",
    "\n",
    "#plt.hist((dist1,outlierdist))\n",
    "plt.show()\n",
    "\n",
    "#filter data or data of interest and do something with it as if real world! \n",
    "index = outlierdist > 110\n",
    "data = outlierdist[index]\n",
    "print(data)\n",
    "data2 = data/4*100\n",
    "print (data2)"
   ]
  },
  {
   "cell_type": "markdown",
   "metadata": {},
   "source": [
    "### Binomial Distribution"
   ]
  },
  {
   "cell_type": "markdown",
   "metadata": {},
   "source": [
    "The binomial distribution is a discrete probability distribution used when there are only two possible outcomes for a random variable: success and failure. Success and failure are mutually exclusive; they cannot occur at the same time. The binomial distribution assumes a finite number of trials, n. NumPy requires the probability set from 0-1 and an integer for number of trials. "
   ]
  },
  {
   "cell_type": "code",
   "execution_count": 68,
   "metadata": {},
   "outputs": [
    {
     "data": {
      "text/plain": [
       "array([12, 13, 14, 11, 14, 10, 14, 10, 13, 13])"
      ]
     },
     "execution_count": 68,
     "metadata": {},
     "output_type": "execute_result"
    }
   ],
   "source": [
    "import numpy as np\n",
    "from numpy import random\n",
    "\n",
    "# n = 100, p = 0.6\n",
    "\n",
    "n, p = 19, 0.6 \n",
    "# get a variable from a random binomial distribution, call it s\n",
    "s = np.random.binomial(n,p,10) # repeat 10 times\n",
    "\n",
    "#show s\n",
    "s"
   ]
  },
  {
   "cell_type": "code",
   "execution_count": 69,
   "metadata": {},
   "outputs": [
    {
     "data": {
      "image/png": "[encoded data removed]",
      "text/plain": [
       "<Figure size 432x288 with 1 Axes>"
      ]
     },
     "metadata": {
      "needs_background": "light"
     },
     "output_type": "display_data"
    }
   ],
   "source": [
    "# a shop makes red bikes and blue bikes. the mix is 50% blue and 50% red\n",
    "# you choose 10 bikes at random and picking blue is success. you do this 20000 times.\n",
    "\n",
    "import numpy as np\n",
    "from numpy import random\n",
    "import matplotlib.pyplot as plt\n",
    "\n",
    "n, p = 10, 0.5\n",
    "N = 20000\n",
    "binom = np.random.binomial(n,p,N)\n",
    "\n",
    "# it should be about 50/50, roughly peaking around 5 as i have a 50/50 chance\n",
    "plt.hist(binom, bins =15)\n",
    "plt.show()"
   ]
  },
  {
   "cell_type": "code",
   "execution_count": 70,
   "metadata": {},
   "outputs": [
    {
     "name": "stdout",
     "output_type": "stream",
     "text": [
      "The probability of that happening is in percent 10.7\n"
     ]
    }
   ],
   "source": [
    "# a company makes 10 concept prototypes per year. Each prototype has a success probability of 0.2\n",
    "# all 10 fail, what are the chances of that? Trial it 10000 times\n",
    "\n",
    "import numpy as np\n",
    "from numpy import random\n",
    "\n",
    "\n",
    "n,p = 10,0.2\n",
    "N= 10000\n",
    "\n",
    "ans = sum(np.random.binomial(n,p,10000) == 0)/10000\n",
    "\n",
    "ans\n",
    "\n",
    "ans = ans*100\n",
    "\n",
    "print('The probability of that happening is in percent',ans)\n"
   ]
  },
  {
   "cell_type": "markdown",
   "metadata": {},
   "source": [
    "### Poisson Distribution"
   ]
  },
  {
   "cell_type": "markdown",
   "metadata": {},
   "source": [
    "Poisson distributions are usually used to model the number of times an event happened in a time interval. This could be how many goals were scored in the 3rd round of the FA Cup or how much defects will there be in every 1000 products I make. It's similiar to binomial except we are not counting a success of a number of trials."
   ]
  },
  {
   "cell_type": "code",
   "execution_count": 71,
   "metadata": {},
   "outputs": [
    {
     "data": {
      "image/png": "[encoded data removed]",
      "text/plain": [
       "<Figure size 432x288 with 1 Axes>"
      ]
     },
     "metadata": {
      "needs_background": "light"
     },
     "output_type": "display_data"
    }
   ],
   "source": [
    "#import librarys and functions\n",
    "import numpy as np\n",
    "from numpy import random\n",
    "import matplotlib.pyplot as plt \n",
    "\n",
    "# lamda is set to 5, size is set to 10000\n",
    "#lamda is the rate that event occurs i.e. average or variance\n",
    "s = np.random.poisson(5,10000)\n",
    "count, bins, ignored = plt.hist(s, 14, density=True)\n",
    "plt.show()"
   ]
  },
  {
   "cell_type": "code",
   "execution_count": 72,
   "metadata": {},
   "outputs": [
    {
     "name": "stdout",
     "output_type": "stream",
     "text": [
      "Mean is = 1.9952\n",
      "StDev is = 1.4016336753945375\n"
     ]
    },
    {
     "data": {
      "image/png": "[encoded data removed]",
      "text/plain": [
       "<Figure size 432x288 with 1 Axes>"
      ]
     },
     "metadata": {
      "needs_background": "light"
     },
     "output_type": "display_data"
    }
   ],
   "source": [
    "#import librarys and functions\n",
    "import numpy as np\n",
    "from numpy import random\n",
    "import matplotlib.pyplot as plt \n",
    "\n",
    "#try different values for Iam and n, then look at the drawn sample \n",
    "lam = 2\n",
    "n = 10000\n",
    "x = np.random.poisson(lam,n)\n",
    "\n",
    "\n",
    "print ('Mean is =',np.mean(x))\n",
    "print ('StDev is =',np.std(x))\n",
    "\n",
    "#graphing\n",
    "plt.hist(x, bins=25)\n",
    "plt.title(\"10000 Poisson Random Variables\")\n",
    "plt.xlabel(\"No of Goals Scored\")\n",
    "plt.show()"
   ]
  },
  {
   "cell_type": "markdown",
   "metadata": {},
   "source": [
    "Above, we can see that the number of goals (rate of occurence or lamda)are largest around the mean. You could guess that you are likely to see 2 goals on average.\n",
    "\n",
    "Below, we can attempt to figure out which of two call centres takes more calls per hour"
   ]
  },
  {
   "cell_type": "code",
   "execution_count": 73,
   "metadata": {},
   "outputs": [
    {
     "data": {
      "image/png": "[encoded data removed]",
      "text/plain": [
       "<Figure size 1080x288 with 2 Axes>"
      ]
     },
     "metadata": {
      "needs_background": "light"
     },
     "output_type": "display_data"
    },
    {
     "data": {
      "image/png": "[encoded data removed]",
      "text/plain": [
       "<Figure size 1080x288 with 2 Axes>"
      ]
     },
     "metadata": {
      "needs_background": "light"
     },
     "output_type": "display_data"
    }
   ],
   "source": [
    "#two call centres, 1 takes 5000 calls in 1000 hrs, the other 8000 calls in 5000 hrs\n",
    "#import librarys and functions\n",
    "import numpy as np\n",
    "from numpy import random\n",
    "import matplotlib.pyplot as plt\n",
    "\n",
    "call_centre1 = np.random.poisson(5000,1000)\n",
    "call_centre2 = np.random.poisson(8000,5000)\n",
    "\n",
    "#graphing both drawn variables \n",
    "fig, axes = plt.subplots (1,2, figsize=(15,4))\n",
    "axes[0].hist(call_centre1)\n",
    "axes[0].set_title (\"Call Centre 1\")\n",
    "axes[1].hist(call_centre2)\n",
    "axes[1].set_title(\"Call Centre 2\")\n",
    "\n",
    "#plt.hist((call_centre1,call_centre2))\n",
    "plt.show()\n",
    "\n",
    "# now change the occurence to the same overvation space\n",
    "# Call Centre 1 = 5000/1000 = 5 per hour\n",
    "# Call Centre 2 = 8000/5000 = 1.6 per hour\n",
    "\n",
    "#call centres with the same observation space \n",
    "call_centre1x = np.random.poisson(5,1)\n",
    "call_centre2x = np.random.poisson(1.6,1)\n",
    "\n",
    "#graphing both drawn variables \n",
    "fig, axes = plt.subplots (1,2, figsize=(15,4))\n",
    "axes[0].hist(call_centre1x)\n",
    "axes[0].set_title (\"Call Centre 1\")\n",
    "axes[1].hist(call_centre2x)\n",
    "axes[1].set_title(\"Call Centre 2\")\n",
    "\n",
    "#plt.hist((call_centre1x,call_centre2x))\n",
    "plt.show()"
   ]
  },
  {
   "cell_type": "markdown",
   "metadata": {},
   "source": [
    "###  Exponential Distribution"
   ]
  },
  {
   "cell_type": "markdown",
   "metadata": {},
   "source": [
    "The exponential distribution is usually used to represent a process that has events that occur continuously and independently at a constant average rate. As an example, it is commonly used in manufacturing to determine how long it takes for some equipment to fail/ what is that equipments likely lifetime."
   ]
  },
  {
   "cell_type": "code",
   "execution_count": 74,
   "metadata": {},
   "outputs": [
    {
     "name": "stdout",
     "output_type": "stream",
     "text": [
      "0.765718371532524\n"
     ]
    },
    {
     "data": {
      "image/png": "[encoded data removed]",
      "text/plain": [
       "<Figure size 432x288 with 1 Axes>"
      ]
     },
     "metadata": {
      "needs_background": "light"
     },
     "output_type": "display_data"
    }
   ],
   "source": [
    "#import librarys and functions\n",
    "import numpy as np\n",
    "from numpy import random\n",
    "import matplotlib.pyplot as plt\n",
    "\n",
    "# The scale is the inverse of lambda\n",
    "\n",
    "# size is None or default, it will return a single value\n",
    "y = np.random.exponential(scale=1, size=None)\n",
    "print (y)\n",
    "#size is set to 10000, it will return 10000 drawn samples in an array\n",
    "x = np.random.exponential(scale=2, size=10000)\n",
    "\n",
    "#to check if the drawn variables are exponential\n",
    "plt.hist(x, bins =200)\n",
    "plt.title(\" 10000 samples from an Exponential distribution\")\n",
    "plt.show()"
   ]
  },
  {
   "cell_type": "markdown",
   "metadata": {},
   "source": [
    "###  F Distribution"
   ]
  },
  {
   "cell_type": "markdown",
   "metadata": {},
   "source": [
    "The f distribution is typically used to estimate the difference in variances of groups and output a ratio. If the ratio is close to one, then the variances are likely the same and it is assumed that the population means don't differ. The 'F' comes from Ronald Fisher, who developed the distribution.  "
   ]
  },
  {
   "cell_type": "code",
   "execution_count": 75,
   "metadata": {},
   "outputs": [
    {
     "data": {
      "image/png": "[encoded data removed]",
      "text/plain": [
       "<Figure size 432x288 with 1 Axes>"
      ]
     },
     "metadata": {
      "needs_background": "light"
     },
     "output_type": "display_data"
    }
   ],
   "source": [
    "#import librarys and functions\n",
    "import numpy as np\n",
    "from numpy import random\n",
    "import matplotlib.pyplot as plt\n",
    "\n",
    "#to show 1000 samples drawn from the random f distribution\n",
    "#5 = Numerator degrees of freedom, 50 is the Denominator degrees of freedom \n",
    "f = np.random.f(5,50,1000)\n",
    "plt.hist(f, bins =20)\n",
    "plt.show()"
   ]
  },
  {
   "cell_type": "code",
   "execution_count": 76,
   "metadata": {},
   "outputs": [
    {
     "name": "stdout",
     "output_type": "stream",
     "text": [
      "0.15964060077630526\n"
     ]
    }
   ],
   "source": [
    "# the ratio of variance of two random variable containing 40 samples\n",
    "#import librarys and functions\n",
    "import numpy as np\n",
    "from numpy import random\n",
    "#import the scipy library for stats\n",
    "import scipy\n",
    "from scipy import stats \n",
    "\n",
    "x = np.random.normal(80,10,40)\n",
    "y = np.random.normal(178,25,40)\n",
    "\n",
    "#define variances of both drawn samples\n",
    "var_1 = np.var(x,ddof=1)\n",
    "var_2 = np.var(y,ddof=1)\n",
    "\n",
    "# divide one variance by the other \n",
    "f_value = (var_1/var_2)\n",
    "\n",
    "#is the f value close to 1 or not? it shouldn't be as means and stdev set differently above \n",
    "print(f_value)"
   ]
  },
  {
   "cell_type": "markdown",
   "metadata": {},
   "source": [
    "### Seeds when generating PRN"
   ]
  },
  {
   "cell_type": "markdown",
   "metadata": {},
   "source": [
    "Using the seed when generating (pseudo)random numbers ensures that the same random numbers are generated every time. The seed is essentially the position you start from and by setting it with the seed function you initialise the generator to a set state. If for example you designed code to test something,where the results is the output of a comparison between two datasets, you might want to check that this code is repeatable or reproduceable and robust. You might also want to be able to make some predictions in which case you would have to know the seed.    "
   ]
  },
  {
   "cell_type": "code",
   "execution_count": 77,
   "metadata": {},
   "outputs": [
    {
     "data": {
      "text/plain": [
       "0.4017112140333967"
      ]
     },
     "execution_count": 77,
     "metadata": {},
     "output_type": "execute_result"
    }
   ],
   "source": [
    "# some code to demonstrate the seed function\n",
    "#import librarys and functions\n",
    "import numpy as np\n",
    "from numpy import random\n",
    "\n",
    "# a random number is returned\n",
    "a = np.random.rand()\n",
    "\n",
    "#run this cell multiple times to see random values returned \n",
    "a"
   ]
  },
  {
   "cell_type": "code",
   "execution_count": 78,
   "metadata": {},
   "outputs": [
    {
     "data": {
      "text/plain": [
       "0.9296160928171479"
      ]
     },
     "execution_count": 78,
     "metadata": {},
     "output_type": "execute_result"
    }
   ],
   "source": [
    "#import librarys and functions\n",
    "import numpy as np\n",
    "from numpy import random\n",
    "\n",
    "# set the seed to 12345\n",
    "np.random.seed(12345)\n",
    "\n",
    "# give me a random number\n",
    "b = np.random.rand()\n",
    "\n",
    "# output it - run this cell multiple times, does it repeat? It should!\n",
    "b"
   ]
  },
  {
   "cell_type": "markdown",
   "metadata": {},
   "source": [
    "Here's a real world example of useful seeding the prn. It's the use of a t-Test but using random variables as i don't have real data yet. I just want to ensure my code is correct"
   ]
  },
  {
   "cell_type": "code",
   "execution_count": 79,
   "metadata": {},
   "outputs": [
    {
     "name": "stdout",
     "output_type": "stream",
     "text": [
      "1.1555476315114144e-25\n"
     ]
    }
   ],
   "source": [
    "#import librarys and functions\n",
    "import numpy as np\n",
    "import scipy\n",
    "from scipy import stats\n",
    "\n",
    "#set the seed\n",
    "np.random.seed(555)\n",
    "\n",
    "#generate two random variables from normal distributions. assign to x and y\n",
    "x = np.random.normal(80,10,40)\n",
    "y = np.random.normal(178,25,40)\n",
    "\n",
    "#perform a t-Test\n",
    "(t,pVal) = stats.ttest_rel (x,y)\n",
    "\n",
    "#print the p-value - it should repeat every time\n",
    "#if it repeats everytime i run this cell, my code is good(ish) \n",
    "\n",
    "#i dont care about the result as such in this case, only that it is repeatable \n",
    "print (pVal)"
   ]
  },
  {
   "cell_type": "code",
   "execution_count": null,
   "metadata": {},
   "outputs": [],
   "source": []
  }
 ],
 "metadata": {
  "kernelspec": {
   "display_name": "Python 3",
   "language": "python",
   "name": "python3"
  },
  "language_info": {
   "codemirror_mode": {
    "name": "ipython",
    "version": 3
   },
   "file_extension": ".py",
   "mimetype": "text/x-python",
   "name": "python",
   "nbconvert_exporter": "python",
   "pygments_lexer": "ipython3",
   "version": "3.6.6"
  }
 },
 "nbformat": 4,
 "nbformat_minor": 2
}
